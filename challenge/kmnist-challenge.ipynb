{
 "cells": [
  {
   "cell_type": "markdown",
   "metadata": {},
   "source": [
    "# Kuzushiji MNIST challenge / くずし字MNISTチャレンジ\n",
    "\n",
    "\n",
    "\n",
    "> What accuracy can you achieve on the Kuzushiji MNIST testing set?\n",
    "<br>\n",
    "くずし字MNISTテストセットでどんな精度を達成できますか？\n",
    "\n",
    "\n",
    "## KMNIST dataset\n",
    "\n",
    "The [Kuzushiji MNIST dataset](http://codh.rois.ac.jp/kmnist/index.html.en) (KMNIST dataset) is taken from a larger dataset of _kuzushiji_ characters. Kuzushiji is a cursive style of writing Japanese characters which was in use for over a thousand years in Japan, until the beginning of the 20th century. Nowadays kuzushiji is difficult to read for most Japanese people.\n",
    "\n",
    "The KMNIST dataset is of the exactly same format as the MNIST dataset (same number of samples and same image sizes), so it can be used with the same code that was used for MNIST.\n",
    "\n",
    "[くずし字MNISTデータセット](http://codh.rois.ac.jp/kmnist/index.html.en)（KMNISTデータセット）は、_くずし字_の大きなデータセットから派生されたデータセットです。くずし字は、日本語の文字を書く筆記体のスタイルです。日本では20世紀初頭まで1000年以上使用されていました。現在、くずし字はほとんどの日本人にとって読みづらいものです。\n",
    "\n",
    "KMNISTデータセットはMNISTデータセットとまったく同じ形式（同じ数のサンプルと同じ画像サイズ）であるため、MNISTに使用されたのと同じコードで使用できます。"
   ]
  },
  {
   "cell_type": "markdown",
   "metadata": {},
   "source": [
    "## About the challenge / チャレンジについて\n",
    "\n",
    "### How to improve the performance\n",
    "\n",
    "In principle, you can start with the different classifiers / network structures from the practice. Try changing the classifier parameters (e.g. number of layers, number of channels in the layers, etc.) to find which will give you better accuracy.\n",
    "\n",
    "原則として、この実習で学んだ様々な分類器・ニューラルネットワーク構造から始めることができます。分類器のパラメーター（たとえば、層の数、層内のニューロンの数など）を変更し、精度がより良くなるパラメータを見つけてください。"
   ]
  },
  {
   "cell_type": "markdown",
   "metadata": {},
   "source": [
    "#### Advanced tips / 高度なヒント (optional)\n",
    "\n",
    "A few advanced things you can try with neural networks:\n",
    "- Add BatchNormalization layers (we did not learn about it, but in general normalization layers can give improved results)\n",
    "- Data augmentation: apply image transformations on the training dataset to artificially create additional samples, e.g. add small rotations, stretch or shrink in the width or height direction, etc. (check also the ImageDataGenerator class in Keras)\n",
    "- Try using transfer learning by pretraining on a similar dataset (but see \"Don'ts\" below)\n",
    "- Try replacing convolutional layers with \"depthwise separable convolutional layers\" (SeparableConv2D instead of Conv2D). \n",
    "- You may try playing around with a tool to automatically search for good network parameters, such as Hyperas.\n",
    "\n",
    "ニューラルネットワークの精度を向上させるために何ができるか？\n",
    "- BatchNormalization層を追加みる（実習では学んでいないが、正規化層を使用するとよりいい結果が得られる場合がある）\n",
    "- データ拡張：トレーニングデータセットに画像変換を適用して、追加のサンプルを人工的に作成する。少し回転させる、幅または高さの伸縮など（KerasのImageDataGeneratorクラスも役に立つかもしれない）\n",
    "- 同様のデータセットで事前トレーニングすることで転移学習を使用してみる（ただし、以下の「禁止事項」を参照）\n",
    "- 畳込み層を「深度ごとに分離可能な畳込み層」に置き換えてみる（Conv2Dの代わりにSeparableConv2Dを使用）。\n",
    "- 適切なネットワークパラメータを自動的に検索するツールを試してみる（Hyperasなど）。"
   ]
  },
  {
   "cell_type": "markdown",
   "metadata": {},
   "source": [
    "### Don'ts / 禁止事項\n",
    "The following is not allowed!\n",
    "- Do not do pretraining, data augmentation, etc. with other data from the Kuzushiji datasets. Only use the provided training and testing dataset of Kuzushiji data!\n",
    "- Do not copy other solutions for the Kuzushiji-MNIST problem from the Internet.\n",
    "- Do not copy the work of other students.\n",
    "\n",
    "以下は禁止します。\n",
    "- くずし字データセットの他のデータを使用して、事前トレーニングやデータ拡張などを行わないでください。提供されているくずし字データのトレーニングおよびテストデータセットのみを使用してください。\n",
    "- くずし字MNIST問題の他の解答法をインターネットからコピーしないでください。\n",
    "- 他の学生からコードをコピーしないでください。"
   ]
  },
  {
   "cell_type": "markdown",
   "metadata": {},
   "source": [
    "### How to submit the solution / 結果の提出\n",
    "\n",
    "When you are done with the challenge save this notebook and also export it as .html file. Use `File -> Download as -> HTML (.html)` from the menu.\n",
    "<br>\n",
    "Check that the output from all cells is visible in the .html file.\n",
    "<br>\n",
    "Make sure that the whole procedure is contained in the notebook.\n",
    "<br>\n",
    "Submit both the .ipynb and .html files on PandA until the prescribed deadline.\n",
    "\n",
    "\n",
    "チャレンジのタスクが完了したら、ノートブックを保存してください。また、.htmlファイルとしてエクスポートしてください。メニューから`File -> Download as -> HTML (.html)`を使用できます。\n",
    "<br>\n",
    "すべてのセルからの出力がhtmlファイルに表示されることを確認してください。\n",
    "<br>\n",
    "ノートブックが手順全体を含まれなければなりません。\n",
    "<br>\n",
    "締め切りまではPandAで.ipynbファイルと.htmlファイルの両方を提出してください。"
   ]
  },
  {
   "cell_type": "markdown",
   "metadata": {},
   "source": [
    "### What accuracy to expect / どんな精度が得られるか\n",
    "\n",
    "If you use the methods learned in the mandatory (not marked as optional) materials during this practice, you should be able to achieve _80%_ accuracy or more. Try to get at least this accuracy.\n",
    "<br>\n",
    "Students who have learned the optional materials should aim for an accuracy of _96% or higher_. For that you will probably need to use a convolutional network.\n",
    "\n",
    "この課題では、オプション以外のノートブックで学んだ内容だけを利用した場合でも、80％程度の精度が得られるはずです。少なくてもこの程度の精度を得るようにしてください。\n",
    "<br>\n",
    "オプション課題も学ぶことができた受講生は、96％以上の精度を目指してください。そのためには、おそらく畳込みネットワークを使用する必要があります。"
   ]
  },
  {
   "cell_type": "markdown",
   "metadata": {},
   "source": [
    "#### Ranking / ランキング\n",
    "\n",
    "The ranking of the submitted solutions will be published on PandA. \n",
    "\n",
    "提出された結果のランキングはPandAで公開されます。"
   ]
  },
  {
   "cell_type": "markdown",
   "metadata": {},
   "source": [
    "---"
   ]
  },
  {
   "cell_type": "markdown",
   "metadata": {},
   "source": [
    "## Starting code"
   ]
  },
  {
   "cell_type": "markdown",
   "metadata": {},
   "source": [
    "#### Imports"
   ]
  },
  {
   "cell_type": "code",
   "execution_count": null,
   "metadata": {},
   "outputs": [],
   "source": [
    "# Usual imports\n",
    "import numpy as np\n",
    "import matplotlib as mpl\n",
    "import matplotlib.pyplot as plt\n",
    "import tensorflow as tf"
   ]
  },
  {
   "cell_type": "markdown",
   "metadata": {},
   "source": [
    "The next cell contains imports for the \"building blocks\" of the neural networks we trained in the previous sessions.\n",
    "<br>\n",
    "(You can check the documentation of `keras` for additional functionalities at: https://keras.io/)\n",
    "\n",
    "次のセルには、今までのセッションで作成したニューラルネットワークの「構成要素」をインポートします。\n",
    "<br>\n",
    "（他の`keras`の機能が知りたい場合、https://keras.io/ をチェックしてください。）"
   ]
  },
  {
   "cell_type": "code",
   "execution_count": null,
   "metadata": {},
   "outputs": [],
   "source": [
    "# Network building and training\n",
    "from tensorflow.keras.layers import Input, Conv2D, MaxPooling2D, Flatten, Dense, Dropout\n",
    "from tensorflow.keras.models import Model\n",
    "from tensorflow.keras.optimizers import Adam\n",
    "from tensorflow.keras.callbacks import ModelCheckpoint, EarlyStopping\n",
    "from tensorflow.keras.utils import to_categorical"
   ]
  },
  {
   "cell_type": "markdown",
   "metadata": {},
   "source": [
    "#### Load the dataset\n",
    "Use the following cell to obtain the training set and the testing set:\n",
    "\n",
    "次のセルのコードを使用してトレーニングセットとテストセットを入手できます。"
   ]
  },
  {
   "cell_type": "code",
   "execution_count": null,
   "metadata": {},
   "outputs": [],
   "source": [
    "from mnist_loader import KMNISTContestLoader\n",
    "kmnist_contest_loader = KMNISTContestLoader()\n",
    "kX_train, ky_train = kmnist_contest_loader.get_training_set()\n",
    "kX_test, ky_test = kmnist_contest_loader.get_testing_set()\n",
    "\n",
    "print(\"{} training samples\".format(kX_train.shape[0]))\n",
    "print(\"{} testing samples\".format(kX_test.shape[0]))"
   ]
  },
  {
   "cell_type": "markdown",
   "metadata": {},
   "source": [
    "`kX_train` and `kX_test` contain images. If you need vector inputs (e.g. for trying fully connected neural networks or SVMs), run also the following cell and use `kXvec_train` and `kXvec_test`. You should probably standardize them before use!\n",
    "\n",
    "`kX_train`と`kX_test`には画像が入っています。ベクトル入力が必要な場合（たとえば、全結合ニューラルネットワークまたはSVMなどを使うため）、次のセルも実行し、その後`kXvec_train`および`kXvec_test`を使用してください。使用する前にその変数を標準化したほうがいいと思われます。"
   ]
  },
  {
   "cell_type": "code",
   "execution_count": null,
   "metadata": {},
   "outputs": [],
   "source": [
    "kXvec_train = np.reshape(kX_train,(kX_train.shape[0],kX_train.shape[1]*kX_train.shape[2]))\n",
    "kXvec_test = np.reshape(kX_test,(kX_test.shape[0],kX_test.shape[1]*kX_test.shape[2]))"
   ]
  },
  {
   "cell_type": "markdown",
   "metadata": {},
   "source": [
    "---\n",
    "\n",
    "## Your code"
   ]
  },
  {
   "cell_type": "markdown",
   "metadata": {},
   "source": [
    "### Create and train your classifier / 分類器を作成してトレーニングする"
   ]
  },
  {
   "cell_type": "code",
   "execution_count": null,
   "metadata": {},
   "outputs": [],
   "source": [
    "## YOUR CODE HERE (ADD MORE CELLS IF YOU WANT)\n",
    "## ここにコード（必要に応じてセルを追加）"
   ]
  },
  {
   "cell_type": "markdown",
   "metadata": {},
   "source": [
    "### Test your classifier /  / 分類器をテストする\n",
    "\n",
    "Note: Be sure to print the accuracy obtained for the test data set!\n",
    "<br>\n",
    "注：テストデータセットで得られた精度を必ずプリントしてください！"
   ]
  },
  {
   "cell_type": "code",
   "execution_count": null,
   "metadata": {},
   "outputs": [],
   "source": [
    "## YOUR CODE HERE (ADD MORE CELLS IF YOU WANT)\n",
    "## ここにコード（必要に応じてセルを追加）"
   ]
  }
 ],
 "metadata": {
  "kernelspec": {
   "display_name": "Python 3",
   "language": "python",
   "name": "python3"
  },
  "language_info": {
   "codemirror_mode": {
    "name": "ipython",
    "version": 3
   },
   "file_extension": ".py",
   "mimetype": "text/x-python",
   "name": "python",
   "nbconvert_exporter": "python",
   "pygments_lexer": "ipython3",
   "version": "3.6.8"
  }
 },
 "nbformat": 4,
 "nbformat_minor": 2
}
