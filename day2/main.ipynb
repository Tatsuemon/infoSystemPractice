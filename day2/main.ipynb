{
 "cells": [
  {
   "cell_type": "markdown",
   "metadata": {},
   "source": [
    "# Machine learning : Day 2 (2 x 90 min)\n",
    "- Data gathering and classification\n",
    "- Neural networks\n",
    "<br>\n",
    "\n",
    "- データ収集と分類\n",
    "- ニューラルネットワーク"
   ]
  },
  {
   "cell_type": "markdown",
   "metadata": {},
   "source": [
    "# Data gathering and classification task / データ収集と分類のタスク\n",
    "\n",
    "We will apply the machine learning techniques from last week to a concrete problem:\n",
    "\n",
    "> __Knowing how far people live from the university or from work, we want to know how they commute.__\n",
    "\n",
    "During this session, you will have to start from scratch by collecting the data.\n",
    "<br>\n",
    "<br>\n",
    "\n",
    "\n",
    "先週学んだ機械学習技術を具体的な問題に適用します。\n",
    "\n",
    "> __大学・会社からどれだけ遠くに住んでいるのかが分かったら、どのように通学・通勤するのかが知りたいのです。__\n",
    "\n",
    "このセッションでは、データを収集して最初から始める必要があります。"
   ]
  },
  {
   "cell_type": "markdown",
   "metadata": {},
   "source": [
    "# Neural networks / ニューラルネットワーク\n",
    "\n",
    "You will learn to define a neural network, train it and then test it.\n",
    "\n",
    "You will use a neural network library that exploits the graphical processing unit (GPU) to speed up the computation.\n",
    "<br><br>\n",
    "\n",
    "ニューラルネットワークの定義、学習、テストすることを学びます。\n",
    "\n",
    "学習を早くするためにグラフィックカードを使うライブラリを使用します。"
   ]
  },
  {
   "cell_type": "markdown",
   "metadata": {},
   "source": [
    "## Contents\n",
    "\n",
    "A. __Classification of own data__\n",
    "\n",
    " 1. [Session 1](session1-main.ipynb)\n",
    "\n",
    "     - [playground](session1-playground.ipynb)\n",
    "     \n",
    "B. __Neural networks__\n",
    " \n",
    " 1. [Session 2: Fully connected neural networks](session2-main.ipynb)\n",
    "\n",
    "      - [playground 1](session2-playground1.ipynb)\n",
    "\n",
    "      - [playground 2](session2-playground2.ipynb)\n",
    "<br><br>      \n",
    "\n",
    " 2. [Session 3: Convolutional neural networks (optional)](session3-main.ipynb)\n",
    " \n",
    "     - [playground](session3-playground.ipynb)\n",
    "\n",
    "\n",
    " 3. [_Session 4: Transfer learning (optional)_](session4-main.ipynb)\n",
    "\n",
    "\n",
    "\n"
   ]
  }
 ],
 "metadata": {
  "kernelspec": {
   "display_name": "Python 3",
   "language": "python",
   "name": "python3"
  },
  "language_info": {
   "codemirror_mode": {
    "name": "ipython",
    "version": 3
   },
   "file_extension": ".py",
   "mimetype": "text/x-python",
   "name": "python",
   "nbconvert_exporter": "python",
   "pygments_lexer": "ipython3",
   "version": "3.7.6"
  }
 },
 "nbformat": 4,
 "nbformat_minor": 2
}
