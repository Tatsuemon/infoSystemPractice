{
 "cells": [
  {
   "cell_type": "markdown",
   "metadata": {},
   "source": [
    "## Session3 - playground (optional)"
   ]
  },
  {
   "cell_type": "code",
   "execution_count": 15,
   "metadata": {},
   "outputs": [],
   "source": [
    "# Usual imports\n",
    "import numpy as np\n",
    "import matplotlib as mpl\n",
    "import matplotlib.pyplot as plt\n",
    "    \n",
    "# Network building and training\n",
    "from tensorflow.keras.layers import Input, Conv2D, MaxPooling2D, Flatten, Dense, Dropout\n",
    "from tensorflow.keras.models import Model\n",
    "from tensorflow.keras.optimizers import Adam\n",
    "from tensorflow.keras.callbacks import ModelCheckpoint, EarlyStopping\n",
    "from tensorflow.keras.utils import to_categorical"
   ]
  },
  {
   "cell_type": "markdown",
   "metadata": {},
   "source": [
    "### Load and prepare the dataset / データを読み込んで準備する"
   ]
  },
  {
   "cell_type": "code",
   "execution_count": 16,
   "metadata": {},
   "outputs": [
    {
     "name": "stdout",
     "output_type": "stream",
     "text": [
      "Training set size: (35000, 28, 28, 1)\n",
      "Testing set size: (35000, 28, 28, 1)\n"
     ]
    }
   ],
   "source": [
    "from mnist_loader import MNISTImageLoader\n",
    "mnist_image_loader = MNISTImageLoader(43)\n",
    "X, y = mnist_image_loader.samples(70000)\n",
    "\n",
    "from sklearn.model_selection import train_test_split\n",
    "X_train, X_test, y_train, y_test  = train_test_split(X, y, test_size=0.5)\n",
    "\n",
    "# Limit the values in [0, 1]\n",
    "X_train = X_train / 255.0\n",
    "X_test = X_test / 255.0\n",
    "\n",
    "print(\"Training set size:\", X_train.shape)\n",
    "print(\"Testing set size:\", X_test.shape)"
   ]
  },
  {
   "cell_type": "markdown",
   "metadata": {},
   "source": [
    "<div style=\"background-color: #FFDDBB; padding: 10px;\">\n",
    "<b>REMINDER</b>: If you are getting strange errors when executing code with neural networks, make sure that you stopped or restarted the kernels in all other notebooks!\n",
    "    \n",
    "<b>注意</b>：ニューラルネットワークのコードを実行しているときに見知らぬエラーが発生した場合は、他のすべてのノートブックでカーネルを停止または再起動したかを確認してください！\n",
    "</div>\n"
   ]
  },
  {
   "cell_type": "markdown",
   "metadata": {},
   "source": [
    "## OPTIONAL 1\n",
    "Create a CNN to recognize MNIST digits. You can re-use the example CNN.\n",
    "<br>\n",
    "You should name your network `network`.\n",
    "\n",
    "\n",
    "MNISTの手書き数字を認識するCNNを作成してください。mainノートブックのサンプルCNNを再利用しても構いません。\n",
    "<br>\n",
    "ネットワークの変数の名前は`network`にしてください。"
   ]
  },
  {
   "cell_type": "code",
   "execution_count": 17,
   "metadata": {},
   "outputs": [
    {
     "data": {
      "text/plain": [
       "(28, 28, 1)"
      ]
     },
     "execution_count": 17,
     "metadata": {},
     "output_type": "execute_result"
    }
   ],
   "source": [
    "input_shape = X_train[0].shape\n",
    "img_input = Input(shape = input_shape, name='input')\n",
    "input_shape"
   ]
  },
  {
   "cell_type": "code",
   "execution_count": 18,
   "metadata": {},
   "outputs": [],
   "source": [
    "conv1 = Conv2D(32, kernel_size=(3, 3), activation='relu', name='conv1')(img_input)\n",
    "conv2 = Conv2D(64, (3, 3), activation='relu', name='conv2')(conv1)\n",
    "pool = MaxPooling2D(pool_size=(2, 2), name='pool')(conv2)\n",
    "dp1 = Dropout(0.25)(pool)\n",
    "fl = Flatten()(dp1)\n",
    "fc1 = Dense(128, activation='relu', name=\"fc1\")(fl)\n",
    "dp2 = Dropout(0.5)(fc1)\n",
    "fc2 = Dense(10, activation='softmax', name=\"fc2\")(dp2)\n",
    "network = Model(img_input, fc2, name='CNN_classification')"
   ]
  },
  {
   "cell_type": "code",
   "execution_count": 19,
   "metadata": {},
   "outputs": [
    {
     "name": "stdout",
     "output_type": "stream",
     "text": [
      "Model: \"CNN_classification\"\n",
      "_________________________________________________________________\n",
      "Layer (type)                 Output Shape              Param #   \n",
      "=================================================================\n",
      "input (InputLayer)           [(None, 28, 28, 1)]       0         \n",
      "_________________________________________________________________\n",
      "conv1 (Conv2D)               (None, 26, 26, 32)        320       \n",
      "_________________________________________________________________\n",
      "conv2 (Conv2D)               (None, 24, 24, 64)        18496     \n",
      "_________________________________________________________________\n",
      "pool (MaxPooling2D)          (None, 12, 12, 64)        0         \n",
      "_________________________________________________________________\n",
      "dropout_4 (Dropout)          (None, 12, 12, 64)        0         \n",
      "_________________________________________________________________\n",
      "flatten_2 (Flatten)          (None, 9216)              0         \n",
      "_________________________________________________________________\n",
      "fc1 (Dense)                  (None, 128)               1179776   \n",
      "_________________________________________________________________\n",
      "dropout_5 (Dropout)          (None, 128)               0         \n",
      "_________________________________________________________________\n",
      "fc2 (Dense)                  (None, 10)                1290      \n",
      "=================================================================\n",
      "Total params: 1,199,882\n",
      "Trainable params: 1,199,882\n",
      "Non-trainable params: 0\n",
      "_________________________________________________________________\n"
     ]
    }
   ],
   "source": [
    "network.summary()"
   ]
  },
  {
   "cell_type": "markdown",
   "metadata": {},
   "source": [
    "## OPTIONAL 2\n",
    "- Train your CNN using part of the training set as validation data \n",
    "- Plot the evolution of the loss functions\n",
    "- Test the performance on the testing set (confusion matrix and accuracy)\n",
    "\n",
    "\n",
    "- トレーニングセットの一部を検証データとして使用してCNNをトレーニングする\n",
    "- 損失関数の進化をプロットする\n",
    "- テストセットでパフォーマンスをテストする（混乱マトリックスと精度）"
   ]
  },
  {
   "cell_type": "code",
   "execution_count": 20,
   "metadata": {
    "scrolled": true
   },
   "outputs": [
    {
     "name": "stdout",
     "output_type": "stream",
     "text": [
      "Train on 35000 samples, validate on 35000 samples\n",
      "Epoch 1/20\n",
      "35000/35000 [==============================] - 35s 1ms/sample - loss: 0.2850 - acc: 0.9125 - val_loss: 0.0706 - val_acc: 0.9786\n",
      "Epoch 2/20\n",
      "35000/35000 [==============================] - 35s 1ms/sample - loss: 0.1400 - acc: 0.9576 - val_loss: 0.0625 - val_acc: 0.9807\n",
      "Epoch 3/20\n",
      "35000/35000 [==============================] - 34s 973us/sample - loss: 0.1206 - acc: 0.9638 - val_loss: 0.0673 - val_acc: 0.9813\n",
      "Epoch 4/20\n",
      "35000/35000 [==============================] - 34s 974us/sample - loss: 0.1144 - acc: 0.9657 - val_loss: 0.0546 - val_acc: 0.9845\n",
      "Epoch 5/20\n",
      "35000/35000 [==============================] - 34s 977us/sample - loss: 0.0992 - acc: 0.9693 - val_loss: 0.0520 - val_acc: 0.9847\n",
      "Epoch 6/20\n",
      "35000/35000 [==============================] - 34s 977us/sample - loss: 0.0997 - acc: 0.9702 - val_loss: 0.0540 - val_acc: 0.9863\n",
      "Epoch 7/20\n",
      "35000/35000 [==============================] - 34s 979us/sample - loss: 0.0955 - acc: 0.9711 - val_loss: 0.0532 - val_acc: 0.9859\n",
      "Epoch 8/20\n",
      "35000/35000 [==============================] - 34s 976us/sample - loss: 0.0964 - acc: 0.9709 - val_loss: 0.0687 - val_acc: 0.9808\n",
      "Epoch 9/20\n",
      "35000/35000 [==============================] - 34s 972us/sample - loss: 0.0909 - acc: 0.9725 - val_loss: 0.0558 - val_acc: 0.9850\n",
      "Epoch 10/20\n",
      "35000/35000 [==============================] - 35s 988us/sample - loss: 0.0812 - acc: 0.9758 - val_loss: 0.0558 - val_acc: 0.9863\n",
      "Epoch 11/20\n",
      "35000/35000 [==============================] - 35s 989us/sample - loss: 0.0797 - acc: 0.9756 - val_loss: 0.0640 - val_acc: 0.9857\n",
      "Epoch 12/20\n",
      "35000/35000 [==============================] - 35s 998us/sample - loss: 0.0765 - acc: 0.9765 - val_loss: 0.0542 - val_acc: 0.9875\n",
      "Epoch 13/20\n",
      "35000/35000 [==============================] - 35s 988us/sample - loss: 0.0916 - acc: 0.9746 - val_loss: 0.0699 - val_acc: 0.9831\n",
      "Epoch 14/20\n",
      "35000/35000 [==============================] - 35s 991us/sample - loss: 0.0913 - acc: 0.9735 - val_loss: 0.0692 - val_acc: 0.9853\n",
      "Epoch 15/20\n",
      "35000/35000 [==============================] - 35s 992us/sample - loss: 0.0859 - acc: 0.9751 - val_loss: 0.0699 - val_acc: 0.9837\n",
      "Epoch 16/20\n",
      "35000/35000 [==============================] - 35s 991us/sample - loss: 0.0779 - acc: 0.9768 - val_loss: 0.0753 - val_acc: 0.9850\n",
      "Epoch 17/20\n",
      "35000/35000 [==============================] - 35s 989us/sample - loss: 0.0759 - acc: 0.9781 - val_loss: 0.0657 - val_acc: 0.9856\n",
      "Epoch 18/20\n",
      "35000/35000 [==============================] - 35s 988us/sample - loss: 0.0771 - acc: 0.9767 - val_loss: 0.0687 - val_acc: 0.9848\n",
      "Epoch 19/20\n",
      "35000/35000 [==============================] - 34s 977us/sample - loss: 0.0740 - acc: 0.9787 - val_loss: 0.0752 - val_acc: 0.9851\n",
      "Epoch 20/20\n",
      "35000/35000 [==============================] - 34s 979us/sample - loss: 0.0791 - acc: 0.9776 - val_loss: 0.0666 - val_acc: 0.9863\n"
     ]
    }
   ],
   "source": [
    "y_train_one_hot = to_categorical(y_train)\n",
    "y_test_one_hot = to_categorical(y_test)\n",
    "\n",
    "network.compile(loss='categorical_crossentropy', optimizer=Adam(lr=0.01), metrics=['acc'])\n",
    "\n",
    "H = network.fit(X_train, y_train_one_hot, batch_size=100, epochs=20, validation_data=(X_test, y_test_one_hot), verbose=1)"
   ]
  },
  {
   "cell_type": "code",
   "execution_count": 21,
   "metadata": {},
   "outputs": [
    {
     "data": {
      "image/png": "[encoded data removed]",
      "text/plain": [
       "<Figure size 432x288 with 1 Axes>"
      ]
     },
     "metadata": {
      "needs_background": "light"
     },
     "output_type": "display_data"
    }
   ],
   "source": [
    "plt.plot(H.history['loss'], 'o-',label=\"loss\")\n",
    "plt.plot(H.history['val_loss'], 'o-', label=\"val_loss\")\n",
    "plt.xlabel(\"epochs\")\n",
    "plt.ylabel(\"loss\")\n",
    "plt.title(\"loss vs epochs\")\n",
    "plt.legend();"
   ]
  },
  {
   "cell_type": "code",
   "execution_count": null,
   "metadata": {},
   "outputs": [],
   "source": []
  },
  {
   "cell_type": "markdown",
   "metadata": {},
   "source": [
    "## OPTIONAL 3\n",
    "- Test hand written digit recognition using the next cell\n",
    "- Evaluate the performance of the network\n",
    "\n",
    "\n",
    "- 次のセルを使用して手書き数字の認識をテストする\n",
    "- ネットワークのパフォーマンスを評価する"
   ]
  },
  {
   "cell_type": "code",
   "execution_count": 22,
   "metadata": {},
   "outputs": [
    {
     "data": {
      "application/vnd.jupyter.widget-view+json": {
       "model_id": "0fb4aa6d50f1416ebf7403b74dde8c39",
       "version_major": 2,
       "version_minor": 0
      },
      "text/plain": [
       "HBox(children=(DrawingPad(data=[[], [], []]), Button(description='Clear', style=ButtonStyle(), tooltip='Click …"
      ]
     },
     "metadata": {},
     "output_type": "display_data"
    }
   ],
   "source": [
    "import ipywidgets as widgets\n",
    "import jupyter_drawing_pad as jd\n",
    "    \n",
    "jdp = jd.CustomBox()\n",
    "draw_pad = jdp.drawing_pad\n",
    "clear_btn = jdp.children[1].children[1]\n",
    "\n",
    "out = widgets.Output(layout=widgets.Layout(width='400px'))\n",
    "\n",
    "@out.capture() \n",
    "def w_CB(change):\n",
    "    from scipy.signal import convolve2d\n",
    "    from cv2 import resize, INTER_CUBIC, cvtColor, COLOR_RGB2GRAY\n",
    "\n",
    "    data = change['new']\n",
    "    if len(data[0]) > 2:\n",
    "        # Get strokes information\n",
    "        x = np.array(data[0])\n",
    "        y = np.array(data[1])\n",
    "        t = np.array(data[2])\n",
    "\n",
    "        # assuming there is at least 200ms between each stroke \n",
    "        line_breaks = np.where(np.diff(t) > 200)[0]\n",
    "        # adding end of array\n",
    "        line_breaks = np.append(line_breaks, t.shape[0])\n",
    "        \n",
    "        # Plot to canvas\n",
    "        from matplotlib.backends.backend_agg import FigureCanvasAgg as FigureCanvas\n",
    "        fig = plt.figure()\n",
    "        canvas = FigureCanvas(fig)\n",
    "        ax = fig.gca()\n",
    "\n",
    "        # plot all strokes\n",
    "        plt.plot(x[:line_breaks[0]], y[:line_breaks[0]], color='black', linewidth=4)\n",
    "        for i in range(1, len(line_breaks)):\n",
    "            plt.plot(x[line_breaks[i-1]+1 : line_breaks[i]], y[line_breaks[i-1]+1 : line_breaks[i]], color='black', linewidth=4)\n",
    "        \n",
    "        plt.xlim(0,460)\n",
    "        plt.ylim(0,250)\n",
    "        plt.axis(\"off\")\n",
    "        \n",
    "        canvas.draw()       # draw the canvas, cache the renderer\n",
    "\n",
    "        # convert to numpy array \n",
    "        imageflat = np.frombuffer(canvas.tostring_rgb(), dtype='uint8')\n",
    "        # not sure why this size...\n",
    "        image = np.reshape(imageflat,(288, 432, 3))\n",
    "        \n",
    "        # Cut the part containing the writting\n",
    "        ind = np.where(image<255)      \n",
    "        \n",
    "        D0 = ind[0].max() - ind[0].min() \n",
    "        D1 = ind[1].max() - ind[1].min() \n",
    "        \n",
    "        C0 = int(0.5 * (ind[0].max() + ind[0].min()))\n",
    "        C1 = int(0.5 * (ind[1].max() + ind[1].min()))\n",
    "\n",
    "        if D0 > D1:\n",
    "            D = D0\n",
    "        else:\n",
    "            D = D1\n",
    "        \n",
    "        L = int(D / 2.0) + 20\n",
    "        image = image[C0 - L : C0 + L ,  C1 - L : C1 + L, :]\n",
    "        \n",
    "        # Convert to gray\n",
    "        image = 255 - cvtColor(image, COLOR_RGB2GRAY)\n",
    "        \n",
    "        # Low pass filter and resize\n",
    "        k = 12\n",
    "        I = convolve2d(image, np.ones((k,k))/k**2.0, mode=\"same\")      \n",
    "        \n",
    "      \n",
    "        \n",
    "        \n",
    "        # Resize with opencv \n",
    "        I = resize(I, dsize=(28, 28), interpolation=INTER_CUBIC)\n",
    "        \n",
    "        # Clip in [0, 1]\n",
    "        I = I / I.max()\n",
    "        I = I * 3.0\n",
    "        I = I.clip(0, 1)\n",
    "                    \n",
    "        # Apply the classifier\n",
    "        y_pred_one_hot = network.predict(I[np.newaxis, :, :, np.newaxis])\n",
    "        y_prediction = np.argmax(y_pred_one_hot)\n",
    "        v = np.max(y_pred_one_hot)    \n",
    "        \n",
    "        title = \"Prediction: {} ({:.02f})\".format(y_prediction, v)    \n",
    "        \n",
    "        # draw the converted image\n",
    "        plt.clf()\n",
    "        #plt.imshow(I, aspect='equal', cmap = mpl.cm.binary, interpolation='none')\n",
    "        plt.imshow(I, cmap = mpl.cm.binary, interpolation='none')\n",
    "        plt.title(title)\n",
    "        #plt.axis(\"off\")\n",
    "        #plt.colorbar()\n",
    "\n",
    "              \n",
    "        plt.show()\n",
    "\n",
    "        # To erase after tracing\n",
    "        #change['owner'].data = [[], [], []]\n",
    "        \n",
    "        # Schedule for clearing\n",
    "        out.clear_output(wait=True)\n",
    "    else:\n",
    "        pass\n",
    "        \n",
    "draw_pad.observe(w_CB, names='data')\n",
    "\n",
    "hb = widgets.HBox([draw_pad, clear_btn, out])\n",
    "display(hb)"
   ]
  },
  {
   "cell_type": "code",
   "execution_count": null,
   "metadata": {},
   "outputs": [],
   "source": []
  },
  {
   "cell_type": "code",
   "execution_count": null,
   "metadata": {},
   "outputs": [],
   "source": []
  },
  {
   "cell_type": "code",
   "execution_count": null,
   "metadata": {},
   "outputs": [],
   "source": []
  },
  {
   "cell_type": "code",
   "execution_count": null,
   "metadata": {},
   "outputs": [],
   "source": []
  }
 ],
 "metadata": {
  "kernelspec": {
   "display_name": "info_system_practice",
   "language": "python",
   "name": "info_system_practice"
  },
  "language_info": {
   "codemirror_mode": {
    "name": "ipython",
    "version": 3
   },
   "file_extension": ".py",
   "mimetype": "text/x-python",
   "name": "python",
   "nbconvert_exporter": "python",
   "pygments_lexer": "ipython3",
   "version": "3.7.6"
  }
 },
 "nbformat": 4,
 "nbformat_minor": 2
}
