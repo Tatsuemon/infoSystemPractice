{
 "cells": [
  {
   "cell_type": "markdown",
   "metadata": {},
   "source": [
    "## Session3 - playground (optional)"
   ]
  },
  {
   "cell_type": "code",
   "execution_count": null,
   "metadata": {},
   "outputs": [],
   "source": [
    "# Usual imports\n",
    "import numpy as np\n",
    "import matplotlib as mpl\n",
    "import matplotlib.pyplot as plt\n",
    "    \n",
    "# Network building and training\n",
    "from tensorflow.keras.layers import Input, Conv2D, MaxPooling2D, Flatten, Dense, Dropout\n",
    "from tensorflow.keras.models import Model\n",
    "from tensorflow.keras.optimizers import Adam\n",
    "from tensorflow.keras.callbacks import ModelCheckpoint, EarlyStopping\n",
    "from tensorflow.keras.utils import to_categorical"
   ]
  },
  {
   "cell_type": "markdown",
   "metadata": {},
   "source": [
    "### Load and prepare the dataset / データを読み込んで準備する"
   ]
  },
  {
   "cell_type": "code",
   "execution_count": null,
   "metadata": {},
   "outputs": [],
   "source": [
    "from mnist_loader import MNISTImageLoader\n",
    "mnist_image_loader = MNISTImageLoader(43)\n",
    "X, y = mnist_image_loader.samples(70000)\n",
    "\n",
    "from sklearn.model_selection import train_test_split\n",
    "X_train, X_test, y_train, y_test  = train_test_split(X, y, test_size=0.5)\n",
    "\n",
    "# Limit the values in [0, 1]\n",
    "X_train = X_train / 255.0\n",
    "X_test = X_test / 255.0\n",
    "\n",
    "print(\"Training set size:\", X_train.shape)\n",
    "print(\"Testing set size:\", X_test.shape)"
   ]
  },
  {
   "cell_type": "markdown",
   "metadata": {},
   "source": [
    "<div style=\"background-color: #FFDDBB; padding: 10px;\">\n",
    "<b>REMINDER</b>: If you are getting strange errors when executing code with neural networks, make sure that you stopped or restarted the kernels in all other notebooks!\n",
    "    \n",
    "<b>注意</b>：ニューラルネットワークのコードを実行しているときに見知らぬエラーが発生した場合は、他のすべてのノートブックでカーネルを停止または再起動したかを確認してください！\n",
    "</div>\n"
   ]
  },
  {
   "cell_type": "markdown",
   "metadata": {},
   "source": [
    "## OPTIONAL 1\n",
    "Create a CNN to recognize MNIST digits. You can re-use the example CNN.\n",
    "<br>\n",
    "You should name your network `network`.\n",
    "\n",
    "\n",
    "MNISTの手書き数字を認識するCNNを作成してください。mainノートブックのサンプルCNNを再利用しても構いません。\n",
    "<br>\n",
    "ネットワークの変数の名前は`network`にしてください。"
   ]
  },
  {
   "cell_type": "code",
   "execution_count": null,
   "metadata": {},
   "outputs": [],
   "source": [
    "## YOUR CODE HERE"
   ]
  },
  {
   "cell_type": "markdown",
   "metadata": {},
   "source": [
    "## OPTIONAL 2\n",
    "- Train your CNN using part of the training set as validation data \n",
    "- Plot the evolution of the loss functions\n",
    "- Test the performance on the testing set (confusion matrix and accuracy)\n",
    "\n",
    "\n",
    "- トレーニングセットの一部を検証データとして使用してCNNをトレーニングする\n",
    "- 損失関数の進化をプロットする\n",
    "- テストセットでパフォーマンスをテストする（混乱マトリックスと精度）"
   ]
  },
  {
   "cell_type": "code",
   "execution_count": null,
   "metadata": {},
   "outputs": [],
   "source": [
    "## YOUR CODE HERE"
   ]
  },
  {
   "cell_type": "markdown",
   "metadata": {},
   "source": [
    "## OPTIONAL 3\n",
    "- Test hand written digit recognition using the next cell\n",
    "- Evaluate the performance of the network\n",
    "\n",
    "\n",
    "- 次のセルを使用して手書き数字の認識をテストする\n",
    "- ネットワークのパフォーマンスを評価する"
   ]
  },
  {
   "cell_type": "code",
   "execution_count": null,
   "metadata": {},
   "outputs": [],
   "source": [
    "import ipywidgets as widgets\n",
    "import jupyter_drawing_pad as jd\n",
    "    \n",
    "jdp = jd.CustomBox()\n",
    "draw_pad = jdp.drawing_pad\n",
    "clear_btn = jdp.children[1].children[1]\n",
    "\n",
    "out = widgets.Output(layout=widgets.Layout(width='400px'))\n",
    "\n",
    "@out.capture() \n",
    "def w_CB(change):\n",
    "    from scipy.signal import convolve2d\n",
    "    from cv2 import resize, INTER_CUBIC, cvtColor, COLOR_RGB2GRAY\n",
    "\n",
    "    data = change['new']\n",
    "    if len(data[0]) > 2:\n",
    "        # Get strokes information\n",
    "        x = np.array(data[0])\n",
    "        y = np.array(data[1])\n",
    "        t = np.array(data[2])\n",
    "\n",
    "        # assuming there is at least 200ms between each stroke \n",
    "        line_breaks = np.where(np.diff(t) > 200)[0]\n",
    "        # adding end of array\n",
    "        line_breaks = np.append(line_breaks, t.shape[0])\n",
    "        \n",
    "        # Plot to canvas\n",
    "        from matplotlib.backends.backend_agg import FigureCanvasAgg as FigureCanvas\n",
    "        fig = plt.figure()\n",
    "        canvas = FigureCanvas(fig)\n",
    "        ax = fig.gca()\n",
    "\n",
    "        # plot all strokes\n",
    "        plt.plot(x[:line_breaks[0]], y[:line_breaks[0]], color='black', linewidth=4)\n",
    "        for i in range(1, len(line_breaks)):\n",
    "            plt.plot(x[line_breaks[i-1]+1 : line_breaks[i]], y[line_breaks[i-1]+1 : line_breaks[i]], color='black', linewidth=4)\n",
    "        \n",
    "        plt.xlim(0,460)\n",
    "        plt.ylim(0,250)\n",
    "        plt.axis(\"off\")\n",
    "        \n",
    "        canvas.draw()       # draw the canvas, cache the renderer\n",
    "\n",
    "        # convert to numpy array \n",
    "        imageflat = np.frombuffer(canvas.tostring_rgb(), dtype='uint8')\n",
    "        # not sure why this size...\n",
    "        image = np.reshape(imageflat,(288, 432, 3))\n",
    "        \n",
    "        # Cut the part containing the writting\n",
    "        ind = np.where(image<255)      \n",
    "        \n",
    "        D0 = ind[0].max() - ind[0].min() \n",
    "        D1 = ind[1].max() - ind[1].min() \n",
    "        \n",
    "        C0 = int(0.5 * (ind[0].max() + ind[0].min()))\n",
    "        C1 = int(0.5 * (ind[1].max() + ind[1].min()))\n",
    "\n",
    "        if D0 > D1:\n",
    "            D = D0\n",
    "        else:\n",
    "            D = D1\n",
    "        \n",
    "        L = int(D / 2.0) + 20\n",
    "        image = image[C0 - L : C0 + L ,  C1 - L : C1 + L, :]\n",
    "        \n",
    "        # Convert to gray\n",
    "        image = 255 - cvtColor(image, COLOR_RGB2GRAY)\n",
    "        \n",
    "        # Low pass filter and resize\n",
    "        k = 12\n",
    "        I = convolve2d(image, np.ones((k,k))/k**2.0, mode=\"same\")      \n",
    "        \n",
    "      \n",
    "        \n",
    "        \n",
    "        # Resize with opencv \n",
    "        I = resize(I, dsize=(28, 28), interpolation=INTER_CUBIC)\n",
    "        \n",
    "        # Clip in [0, 1]\n",
    "        I = I / I.max()\n",
    "        I = I * 3.0\n",
    "        I = I.clip(0, 1)\n",
    "                    \n",
    "        # Apply the classifier\n",
    "        y_pred_one_hot = network.predict(I[np.newaxis, :, :, np.newaxis])\n",
    "        y_prediction = np.argmax(y_pred_one_hot)\n",
    "        v = np.max(y_pred_one_hot)    \n",
    "        \n",
    "        title = \"Prediction: {} ({:.02f})\".format(y_prediction, v)    \n",
    "        \n",
    "        # draw the converted image\n",
    "        plt.clf()\n",
    "        #plt.imshow(I, aspect='equal', cmap = mpl.cm.binary, interpolation='none')\n",
    "        plt.imshow(I, cmap = mpl.cm.binary, interpolation='none')\n",
    "        plt.title(title)\n",
    "        #plt.axis(\"off\")\n",
    "        #plt.colorbar()\n",
    "\n",
    "              \n",
    "        plt.show()\n",
    "\n",
    "        # To erase after tracing\n",
    "        #change['owner'].data = [[], [], []]\n",
    "        \n",
    "        # Schedule for clearing\n",
    "        out.clear_output(wait=True)\n",
    "    else:\n",
    "        pass\n",
    "        \n",
    "draw_pad.observe(w_CB, names='data')\n",
    "\n",
    "hb = widgets.HBox([draw_pad, clear_btn, out])\n",
    "display(hb)"
   ]
  }
 ],
 "metadata": {
  "kernelspec": {
   "display_name": "Python 3",
   "language": "python",
   "name": "python3"
  },
  "language_info": {
   "codemirror_mode": {
    "name": "ipython",
    "version": 3
   },
   "file_extension": ".py",
   "mimetype": "text/x-python",
   "name": "python",
   "nbconvert_exporter": "python",
   "pygments_lexer": "ipython3",
   "version": "3.7.7"
  }
 },
 "nbformat": 4,
 "nbformat_minor": 2
}
