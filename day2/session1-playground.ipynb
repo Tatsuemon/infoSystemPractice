{
 "cells": [
  {
   "cell_type": "markdown",
   "metadata": {},
   "source": [
    "## Session1 - playground"
   ]
  },
  {
   "cell_type": "markdown",
   "metadata": {},
   "source": [
    "## TASK 1: Gather the data / データ収集\n",
    "\n",
    "- Write the collected data in a csv file\n",
    "- In each line write 3 values: class of commuting method (0 or 1), commuting distance, commuting time\n",
    "\n",
    "- 収集したデータをcsvファイルに書き込んでください。\n",
    "- 各行に次の3つの値を書いてください：通学・通勤方法のクラス（0または1）、距離、時間"
   ]
  },
  {
   "cell_type": "markdown",
   "metadata": {},
   "source": [
    "To create the data file:\n",
    "- open the dashboard and go to `day2`\n",
    "- create a new text file using the top right menu (`New->Text File`)\n",
    "- enter your data \n",
    "- rename the file (`File->Rename`)\n",
    "\n",
    "csvファイルの作り方：\n",
    "- ダッシュボードを開き、`day2`を開く\n",
    "- 新しいテキストファイルを作成する（右上のメニューに`New->Text File`を選択）\n",
    "- データを入力する\n",
    "- ファイルの名前を変更する（`File->Rename`）"
   ]
  },
  {
   "cell_type": "markdown",
   "metadata": {},
   "source": [
    "## TASK 2:  Read the data / データの読み込み\n",
    "\n",
    "Use the `genfromtxt` function as explained earlier.\n",
    "\n",
    "`genfromtxt`関数を使ってデータを変数に読み込んでください。"
   ]
  },
  {
   "cell_type": "code",
   "execution_count": 97,
   "metadata": {},
   "outputs": [
    {
     "name": "stdout",
     "output_type": "stream",
     "text": [
      "Shape of the data: (12, 3)\n",
      "The first row is: [   0. 1000.   10.]\n",
      "The last row is: [    0. 15000.    37.]\n"
     ]
    },
    {
     "data": {
      "text/plain": [
       "('class', 'distance', 'time')"
      ]
     },
     "execution_count": 97,
     "metadata": {},
     "output_type": "execute_result"
    }
   ],
   "source": [
    "import numpy as np\n",
    "\n",
    "D = np.genfromtxt('commute_data.csv', delimiter=',')\n",
    "\n",
    "print(\"Shape of the data:\", D.shape)\n",
    "print(\"The first row is:\", D[0,:])\n",
    "print(\"The last row is:\", D[-1,:])\n",
    "'class', 'distance', 'time'"
   ]
  },
  {
   "cell_type": "markdown",
   "metadata": {},
   "source": [
    "## TASK 3:  Train a classifier / 分類器をトレーニングする\n",
    "\n",
    "Train a classifier to estimate the commuting class (0 or 1) from just the commuting distance.\n",
    "<br>\n",
    "For example, you can use the LinearSVC classifier from last week.\n",
    "<br>\n",
    "(Don't forget to divide the data into training and test datasets.)\n",
    "\n",
    "通学・通勤距離のみから通勤クラス（0または1）を推定する分類器をトレーニングしてください。\n",
    "<br>\n",
    "たとえば、先週使っていたLinearSVC分類器を使用できます。\n",
    "<br>\n",
    "（まずはデータをトレーニング用とテスト用に分割することを忘れないでください）"
   ]
  },
  {
   "cell_type": "code",
   "execution_count": 98,
   "metadata": {},
   "outputs": [],
   "source": [
    "import matplotlib as mpl\n",
    "import matplotlib.pyplot as plt\n",
    "import pandas as pd"
   ]
  },
  {
   "cell_type": "code",
   "execution_count": 99,
   "metadata": {},
   "outputs": [
    {
     "name": "stdout",
     "output_type": "stream",
     "text": [
      "X train size: 8   X test size: 4\n"
     ]
    }
   ],
   "source": [
    "x = D[:, 1].reshape(-1, 1)\n",
    "y = D[:, 0]\n",
    "\n",
    "from sklearn.model_selection import train_test_split\n",
    "X_train, X_test, y_train, y_test  = train_test_split(x, y, test_size=0.3)\n",
    "\n",
    "print(\"X train size:\", X_train.shape[0], \"  X test size:\", X_test.shape[0])\n",
    "\n",
    "# standardize\n",
    "from sklearn.preprocessing import StandardScaler\n",
    "scaler = StandardScaler()\n",
    "scaler.fit(X_train)\n",
    "X_train = scaler.transform(X_train)\n",
    "X_test = scaler.transform(X_test)"
   ]
  },
  {
   "cell_type": "code",
   "execution_count": 100,
   "metadata": {},
   "outputs": [],
   "source": [
    "# LinearSVC\n",
    "from sklearn.svm import LinearSVC\n",
    "li = LinearSVC()\n",
    "li.fit(X_train, y_train)\n",
    "y_li_pred = li.predict(X_test)"
   ]
  },
  {
   "cell_type": "code",
   "execution_count": null,
   "metadata": {},
   "outputs": [],
   "source": []
  },
  {
   "cell_type": "markdown",
   "metadata": {},
   "source": [
    "## TASK 4:  Test the classifier / 分類器をテストする"
   ]
  },
  {
   "cell_type": "code",
   "execution_count": 101,
   "metadata": {},
   "outputs": [
    {
     "name": "stdout",
     "output_type": "stream",
     "text": [
      "[[2 0]\n",
      " [1 1]]\n"
     ]
    }
   ],
   "source": [
    "from sklearn.metrics import confusion_matrix\n",
    "CM = confusion_matrix(y_test, y_li_pred)\n",
    "print(CM)"
   ]
  },
  {
   "cell_type": "code",
   "execution_count": 102,
   "metadata": {},
   "outputs": [
    {
     "name": "stdout",
     "output_type": "stream",
     "text": [
      "Accuracy =  0.75\n"
     ]
    }
   ],
   "source": [
    "from sklearn.metrics import accuracy_score\n",
    "A = accuracy_score(y_test,  y_li_pred)\n",
    "print(\"Accuracy = \", A)"
   ]
  },
  {
   "cell_type": "markdown",
   "metadata": {},
   "source": [
    "## OPTIONAL 1\n",
    "\n",
    "Create a classifier that also uses the \"commuting time\" as a feature.\n",
    "\n",
    "「通学・通勤時間」も使用する分類器を作成してください。"
   ]
  },
  {
   "cell_type": "code",
   "execution_count": 103,
   "metadata": {},
   "outputs": [
    {
     "name": "stdout",
     "output_type": "stream",
     "text": [
      "X train size: 8   X test size: 4\n"
     ]
    }
   ],
   "source": [
    "x = D[:, 1:]\n",
    "y = D[:, 0]\n",
    "\n",
    "from sklearn.model_selection import train_test_split\n",
    "X_train, X_test, y_train, y_test  = train_test_split(x, y, test_size=0.3)\n",
    "\n",
    "print(\"X train size:\", X_train.shape[0], \"  X test size:\", X_test.shape[0])\n",
    "\n",
    "# standardize\n",
    "from sklearn.preprocessing import StandardScaler\n",
    "scaler = StandardScaler()\n",
    "scaler.fit(X_train)\n",
    "X_train = scaler.transform(X_train)\n",
    "X_test = scaler.transform(X_test)"
   ]
  },
  {
   "cell_type": "code",
   "execution_count": 104,
   "metadata": {},
   "outputs": [],
   "source": [
    "# LinearSVC\n",
    "from sklearn.svm import LinearSVC\n",
    "li = LinearSVC()\n",
    "li.fit(X_train, y_train)\n",
    "y_li_pred = li.predict(X_test)"
   ]
  },
  {
   "cell_type": "code",
   "execution_count": 105,
   "metadata": {},
   "outputs": [
    {
     "name": "stdout",
     "output_type": "stream",
     "text": [
      "[[2 0]\n",
      " [0 2]]\n"
     ]
    }
   ],
   "source": [
    "from sklearn.metrics import confusion_matrix\n",
    "CM = confusion_matrix(y_test, y_li_pred)\n",
    "print(CM)"
   ]
  },
  {
   "cell_type": "code",
   "execution_count": 106,
   "metadata": {},
   "outputs": [
    {
     "name": "stdout",
     "output_type": "stream",
     "text": [
      "Accuracy =  1.0\n"
     ]
    }
   ],
   "source": [
    "from sklearn.metrics import accuracy_score\n",
    "A = accuracy_score(y_test,  y_li_pred)\n",
    "print(\"Accuracy = \", A)"
   ]
  },
  {
   "cell_type": "code",
   "execution_count": null,
   "metadata": {},
   "outputs": [],
   "source": []
  },
  {
   "cell_type": "code",
   "execution_count": null,
   "metadata": {},
   "outputs": [],
   "source": []
  }
 ],
 "metadata": {
  "kernelspec": {
   "display_name": "Python 3",
   "language": "python",
   "name": "python3"
  },
  "language_info": {
   "codemirror_mode": {
    "name": "ipython",
    "version": 3
   },
   "file_extension": ".py",
   "mimetype": "text/x-python",
   "name": "python",
   "nbconvert_exporter": "python",
   "pygments_lexer": "ipython3",
   "version": "3.7.6"
  }
 },
 "nbformat": 4,
 "nbformat_minor": 2
}
