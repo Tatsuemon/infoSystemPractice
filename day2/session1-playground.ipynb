{
 "cells": [
  {
   "cell_type": "markdown",
   "metadata": {},
   "source": [
    "## Session1 - playground"
   ]
  },
  {
   "cell_type": "markdown",
   "metadata": {},
   "source": [
    "## TASK 1: Gather the data / データ収集\n",
    "\n",
    "- Write the collected data in a csv file\n",
    "- In each line write 3 values: class of commuting method (0 or 1), commuting distance, commuting time\n",
    "\n",
    "- 収集したデータをcsvファイルに書き込んでください。\n",
    "- 各行に次の3つの値を書いてください：通学・通勤方法のクラス（0または1）、距離、時間"
   ]
  },
  {
   "cell_type": "markdown",
   "metadata": {},
   "source": [
    "To create the data file:\n",
    "- open the dashboard and go to `day2`\n",
    "- create a new text file using the top right menu (`New->Text File`)\n",
    "- enter your data \n",
    "- rename the file (`File->Rename`)\n",
    "\n",
    "csvファイルの作り方：\n",
    "- ダッシュボードを開き、`day2`を開く\n",
    "- 新しいテキストファイルを作成する（右上のメニューに`New->Text File`を選択）\n",
    "- データを入力する\n",
    "- ファイルの名前を変更する（`File->Rename`）"
   ]
  },
  {
   "cell_type": "markdown",
   "metadata": {},
   "source": [
    "## TASK 2:  Read the data / データの読み込み\n",
    "\n",
    "Use the `genfromtxt` function as explained earlier.\n",
    "\n",
    "`genfromtxt`関数を使ってデータを変数に読み込んでください。"
   ]
  },
  {
   "cell_type": "code",
   "execution_count": null,
   "metadata": {},
   "outputs": [],
   "source": [
    "## YOUR CODE HERE"
   ]
  },
  {
   "cell_type": "markdown",
   "metadata": {},
   "source": [
    "## TASK 3:  Train a classifier / 分類器をトレーニングする\n",
    "\n",
    "Train a classifier to estimate the commuting class (0 or 1) from just the commuting distance.\n",
    "<br>\n",
    "For example, you can use the LinearSVC classifier from last week.\n",
    "<br>\n",
    "(Don't forget to divide the data into training and test datasets.)\n",
    "\n",
    "通学・通勤距離のみから通勤クラス（0または1）を推定する分類器をトレーニングしてください。\n",
    "<br>\n",
    "たとえば、先週使っていたLinearSVC分類器を使用できます。\n",
    "<br>\n",
    "（まずはデータをトレーニング用とテスト用に分割することを忘れないでください）"
   ]
  },
  {
   "cell_type": "code",
   "execution_count": null,
   "metadata": {},
   "outputs": [],
   "source": [
    "## YOUR CODE HERE"
   ]
  },
  {
   "cell_type": "markdown",
   "metadata": {},
   "source": [
    "## TASK 4:  Test the classifier / 分類器をテストする"
   ]
  },
  {
   "cell_type": "code",
   "execution_count": null,
   "metadata": {},
   "outputs": [],
   "source": [
    "## YOUR CODE HERE"
   ]
  },
  {
   "cell_type": "markdown",
   "metadata": {},
   "source": [
    "## OPTIONAL 1\n",
    "\n",
    "Create a classifier that also uses the \"commuting time\" as a feature.\n",
    "\n",
    "「通学・通勤時間」も使用する分類器を作成してください。"
   ]
  },
  {
   "cell_type": "code",
   "execution_count": null,
   "metadata": {},
   "outputs": [],
   "source": [
    "## YOUR CODE HERE"
   ]
  }
 ],
 "metadata": {
  "kernelspec": {
   "display_name": "Python 3",
   "language": "python",
   "name": "python3"
  },
  "language_info": {
   "codemirror_mode": {
    "name": "ipython",
    "version": 3
   },
   "file_extension": ".py",
   "mimetype": "text/x-python",
   "name": "python",
   "nbconvert_exporter": "python",
   "pygments_lexer": "ipython3",
   "version": "3.7.7"
  }
 },
 "nbformat": 4,
 "nbformat_minor": 2
}
