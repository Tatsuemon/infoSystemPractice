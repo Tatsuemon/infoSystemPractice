{
 "cells": [
  {
   "cell_type": "markdown",
   "metadata": {},
   "source": [
    "## Session2 - playground2"
   ]
  },
  {
   "cell_type": "markdown",
   "metadata": {},
   "source": [
    "### Whole training from the beginning / 初めからのトレーニング\n",
    "\n",
    "Let's first run the whole network training process from the start.\n",
    "\n",
    "まずは、最初からネットワークトレーニングを行います。"
   ]
  },
  {
   "cell_type": "markdown",
   "metadata": {},
   "source": [
    "<div style=\"background-color: #FFDDBB; padding: 10px;\">\n",
    "<b>REMINDER</b>: If you are getting strange errors when executing code with neural networks, make sure that you stopped or restarted the kernels in all other notebooks!\n",
    "    \n",
    "<b>注意</b>：ニューラルネットワークのコードを実行しているときに見知らぬエラーが発生した場合は、他のすべてのノートブックでカーネルを停止または再起動したかを確認してください！\n",
    "</div>\n"
   ]
  },
  {
   "cell_type": "markdown",
   "metadata": {},
   "source": [
    "#### Imports"
   ]
  },
  {
   "cell_type": "code",
   "execution_count": 1,
   "metadata": {},
   "outputs": [],
   "source": [
    "import numpy as np\n",
    "import matplotlib as mpl\n",
    "import matplotlib.pyplot as plt\n",
    "\n",
    "# Import Tensorflow \n",
    "import tensorflow as tf\n",
    "\n",
    "# Import Keras stuff\n",
    "from tensorflow.keras.layers import Input, Conv2D, MaxPooling2D, Flatten, Dense, Dropout, LSTM\n",
    "from tensorflow.keras.models import Model, load_model\n",
    "from tensorflow.keras.optimizers import Adam\n",
    "from tensorflow.keras.callbacks import ModelCheckpoint, EarlyStopping\n",
    "from tensorflow.keras.utils import to_categorical"
   ]
  },
  {
   "cell_type": "markdown",
   "metadata": {},
   "source": [
    "#### Load MNIST and create the training and testing sets"
   ]
  },
  {
   "cell_type": "code",
   "execution_count": 2,
   "metadata": {},
   "outputs": [],
   "source": [
    "from mnist_loader import MNISTVectorLoader\n",
    "mnist_vector_loader = MNISTVectorLoader(43)\n",
    "X, y = mnist_vector_loader.samples(70000)\n",
    "\n",
    "from sklearn.model_selection import train_test_split\n",
    "X_train, X_test, y_train, y_test  = train_test_split(X, y, test_size=0.5)\n",
    "\n",
    "from sklearn.preprocessing import StandardScaler\n",
    "scaler = StandardScaler()\n",
    "scaler.fit(X_train)\n",
    "X_train = scaler.transform(X_train)\n",
    "X_test = scaler.transform(X_test)"
   ]
  },
  {
   "cell_type": "markdown",
   "metadata": {},
   "source": [
    "#### Define the network\n",
    "<a id='define_the_network'></a>"
   ]
  },
  {
   "cell_type": "code",
   "execution_count": 3,
   "metadata": {},
   "outputs": [
    {
     "name": "stdout",
     "output_type": "stream",
     "text": [
      "Model: \"classification\"\n",
      "_________________________________________________________________\n",
      "Layer (type)                 Output Shape              Param #   \n",
      "=================================================================\n",
      "input (InputLayer)           [(None, 784)]             0         \n",
      "_________________________________________________________________\n",
      "fc1 (Dense)                  (None, 128)               100480    \n",
      "_________________________________________________________________\n",
      "fc2 (Dense)                  (None, 128)               16512     \n",
      "_________________________________________________________________\n",
      "output (Dense)               (None, 10)                1290      \n",
      "=================================================================\n",
      "Total params: 118,282\n",
      "Trainable params: 118,282\n",
      "Non-trainable params: 0\n",
      "_________________________________________________________________\n"
     ]
    }
   ],
   "source": [
    "input_shape = X_train[0].shape\n",
    "vector_input = Input(shape = input_shape, name='input')\n",
    "\n",
    "fc1 = Dense(128, activation='relu', name='fc1')(vector_input)\n",
    "\n",
    "fc2 = Dense(128, activation='relu', name='fc2')(fc1)\n",
    "\n",
    "output = Dense(10, activation='softmax', name='output')(fc2)\n",
    "\n",
    "network = Model(vector_input, output, name='classification')\n",
    "\n",
    "network.summary()\n",
    "\n",
    "network.compile(loss='categorical_crossentropy', optimizer=Adam(lr=0.01), metrics=['acc'])"
   ]
  },
  {
   "cell_type": "markdown",
   "metadata": {},
   "source": [
    "#### Train the network"
   ]
  },
  {
   "cell_type": "code",
   "execution_count": 4,
   "metadata": {},
   "outputs": [],
   "source": [
    "y_train_one_hot = to_categorical(y_train)\n",
    "y_test_one_hot = to_categorical(y_test)"
   ]
  },
  {
   "cell_type": "code",
   "execution_count": 5,
   "metadata": {},
   "outputs": [
    {
     "name": "stdout",
     "output_type": "stream",
     "text": [
      "Train on 35000 samples, validate on 35000 samples\n",
      "Epoch 1/20\n",
      "35000/35000 [==============================] - 1s 30us/sample - loss: 0.3432 - acc: 0.9081 - val_loss: 0.3249 - val_acc: 0.9213\n",
      "Epoch 2/20\n",
      "35000/35000 [==============================] - 1s 23us/sample - loss: 0.2399 - acc: 0.9348 - val_loss: 0.2954 - val_acc: 0.9356\n",
      "Epoch 3/20\n",
      "35000/35000 [==============================] - 1s 22us/sample - loss: 0.2014 - acc: 0.9466 - val_loss: 0.2667 - val_acc: 0.9383\n",
      "Epoch 4/20\n",
      "35000/35000 [==============================] - 1s 22us/sample - loss: 0.1854 - acc: 0.9516 - val_loss: 0.2451 - val_acc: 0.9413\n",
      "Epoch 5/20\n",
      "35000/35000 [==============================] - 1s 22us/sample - loss: 0.1816 - acc: 0.9545 - val_loss: 0.2752 - val_acc: 0.9435\n",
      "Epoch 6/20\n",
      "35000/35000 [==============================] - 1s 24us/sample - loss: 0.1640 - acc: 0.9586 - val_loss: 0.3010 - val_acc: 0.9488\n",
      "Epoch 7/20\n",
      "35000/35000 [==============================] - 1s 24us/sample - loss: 0.1673 - acc: 0.9588 - val_loss: 0.4460 - val_acc: 0.9428\n",
      "Epoch 8/20\n",
      "35000/35000 [==============================] - 1s 22us/sample - loss: 0.1825 - acc: 0.9583 - val_loss: 0.3190 - val_acc: 0.9399\n",
      "Epoch 9/20\n",
      "35000/35000 [==============================] - 1s 22us/sample - loss: 0.1757 - acc: 0.9569 - val_loss: 0.3644 - val_acc: 0.9382\n",
      "Epoch 10/20\n",
      "35000/35000 [==============================] - 1s 22us/sample - loss: 0.1610 - acc: 0.9636 - val_loss: 0.3030 - val_acc: 0.9469\n",
      "Epoch 11/20\n",
      "35000/35000 [==============================] - 1s 22us/sample - loss: 0.1416 - acc: 0.9639 - val_loss: 0.3337 - val_acc: 0.9409\n",
      "Epoch 12/20\n",
      "35000/35000 [==============================] - 1s 22us/sample - loss: 0.1316 - acc: 0.9685 - val_loss: 0.3673 - val_acc: 0.9500\n",
      "Epoch 13/20\n",
      "35000/35000 [==============================] - 1s 21us/sample - loss: 0.1482 - acc: 0.9636 - val_loss: 0.4010 - val_acc: 0.9431\n",
      "Epoch 14/20\n",
      "35000/35000 [==============================] - 1s 21us/sample - loss: 0.1545 - acc: 0.9631 - val_loss: 0.4056 - val_acc: 0.9503\n",
      "Epoch 15/20\n",
      "35000/35000 [==============================] - 1s 21us/sample - loss: 0.1349 - acc: 0.9674 - val_loss: 0.3928 - val_acc: 0.9499\n",
      "Epoch 16/20\n",
      "35000/35000 [==============================] - 1s 21us/sample - loss: 0.1216 - acc: 0.9701 - val_loss: 0.4184 - val_acc: 0.9455\n",
      "Epoch 17/20\n",
      "35000/35000 [==============================] - 1s 21us/sample - loss: 0.1250 - acc: 0.9703 - val_loss: 0.4259 - val_acc: 0.9366\n",
      "Epoch 18/20\n",
      "35000/35000 [==============================] - 1s 21us/sample - loss: 0.1454 - acc: 0.9659 - val_loss: 0.4526 - val_acc: 0.9459\n",
      "Epoch 19/20\n",
      "35000/35000 [==============================] - 1s 21us/sample - loss: 0.1558 - acc: 0.9657 - val_loss: 0.4015 - val_acc: 0.9470\n",
      "Epoch 20/20\n",
      "35000/35000 [==============================] - 1s 20us/sample - loss: 0.1551 - acc: 0.9641 - val_loss: 0.4403 - val_acc: 0.9333\n"
     ]
    }
   ],
   "source": [
    "H = network.fit(X_train, y_train_one_hot,\n",
    "                batch_size=100, epochs=20,\n",
    "                validation_data=(X_test, y_test_one_hot),\n",
    "                verbose=1)"
   ]
  },
  {
   "cell_type": "markdown",
   "metadata": {},
   "source": [
    "## TASK 1\n",
    "Plot the evolution of the losses and accuracies.\n",
    "\n",
    "損失と精度の進化をプロットしてください"
   ]
  },
  {
   "cell_type": "code",
   "execution_count": 6,
   "metadata": {},
   "outputs": [
    {
     "data": {
      "image/png": "[encoded data removed]",
      "text/plain": [
       "<Figure size 432x288 with 1 Axes>"
      ]
     },
     "metadata": {
      "needs_background": "light"
     },
     "output_type": "display_data"
    }
   ],
   "source": [
    "# loss\n",
    "plt.plot(H.history['loss'], 'o-',label=\"loss\")\n",
    "plt.plot(H.history['val_loss'], 'o-', label=\"val_loss\")\n",
    "plt.xlabel(\"epochs\")\n",
    "plt.ylabel(\"loss\")\n",
    "plt.title(\"loss vs epochs\")\n",
    "plt.legend();"
   ]
  },
  {
   "cell_type": "code",
   "execution_count": 7,
   "metadata": {},
   "outputs": [
    {
     "data": {
      "image/png": "[encoded data removed]",
      "text/plain": [
       "<Figure size 432x288 with 1 Axes>"
      ]
     },
     "metadata": {
      "needs_background": "light"
     },
     "output_type": "display_data"
    }
   ],
   "source": [
    "# accuracy\n",
    "plt.plot(H.history['acc'], 'o-', label=\"acc\")\n",
    "plt.plot(H.history['val_acc'], 'o-', label=\"val_acc\")\n",
    "plt.xlabel(\"epochs\")\n",
    "plt.ylabel(\"acc\")\n",
    "plt.title(\"Accuracy vs epochs\")\n",
    "plt.legend();"
   ]
  },
  {
   "cell_type": "markdown",
   "metadata": {},
   "source": [
    "## TASK 2\n",
    "Re-run the training but this time:\n",
    "- Stop the training when `val_acc` the accuracy on the validation set does not grow anymore \n",
    "- Save the model with the best accuracy as `my_best_network.hdf5`\n",
    "\n",
    "トレーニングを再実行してください。今回は\n",
    " - テストセットの精度（`val_acc`）が向上しなくなったら、トレーニングを中断する\n",
    " - モデルを `my_best_network.hdf5`として最高の精度で保存します\n",
    "\n",
    "Note that you have to recreate the network to re-initialize the weights if you want to re-train from scratch.\n",
    "<br>\n",
    "Otherwise the training just updates the current weights.\n",
    "\n",
    "<br>So, you have to re-run the cells from [Define the network](#define_the_network) to create a new model with fresh weights.\n",
    "\n",
    "注：最初からトレーニングをやり直す場合は、重みを再初期化する必要があります（そうしなければ、トレーニングは現在の重みを更新するだけです）。そのためネットワークを再作成しなければなりません。\n",
    "<br>\n",
    " [Define the network](#define_the_network)からのセルを再実行して、新しい重みを持つ新しいモデルを作成してください。"
   ]
  },
  {
   "cell_type": "markdown",
   "metadata": {},
   "source": [
    "Plot again the evolution of the losses and accuracies.\n",
    "\n",
    "もう一度損失と精度の進化をプロットしてください。"
   ]
  },
  {
   "cell_type": "code",
   "execution_count": 17,
   "metadata": {},
   "outputs": [
    {
     "name": "stdout",
     "output_type": "stream",
     "text": [
      "Model: \"classification\"\n",
      "_________________________________________________________________\n",
      "Layer (type)                 Output Shape              Param #   \n",
      "=================================================================\n",
      "input (InputLayer)           [(None, 784)]             0         \n",
      "_________________________________________________________________\n",
      "fc1 (Dense)                  (None, 128)               100480    \n",
      "_________________________________________________________________\n",
      "fc2 (Dense)                  (None, 128)               16512     \n",
      "_________________________________________________________________\n",
      "output (Dense)               (None, 10)                1290      \n",
      "=================================================================\n",
      "Total params: 118,282\n",
      "Trainable params: 118,282\n",
      "Non-trainable params: 0\n",
      "_________________________________________________________________\n",
      "Train on 35000 samples, validate on 35000 samples\n",
      "Epoch 1/20\n",
      "31500/35000 [==========================>...] - ETA: 0s - loss: 0.3639 - acc: 0.9025\n",
      "Epoch 00001: val_acc improved from -inf to 0.93009, saving model to my_best_network.hdf5\n",
      "35000/35000 [==============================] - 1s 29us/sample - loss: 0.3549 - acc: 0.9047 - val_loss: 0.2622 - val_acc: 0.9301\n",
      "Epoch 2/20\n",
      "34500/35000 [============================>.] - ETA: 0s - loss: 0.2406 - acc: 0.9358\n",
      "Epoch 00002: val_acc improved from 0.93009 to 0.93126, saving model to my_best_network.hdf5\n",
      "35000/35000 [==============================] - 1s 23us/sample - loss: 0.2413 - acc: 0.9359 - val_loss: 0.2652 - val_acc: 0.9313\n",
      "Epoch 3/20\n",
      "34800/35000 [============================>.] - ETA: 0s - loss: 0.2028 - acc: 0.9467\n",
      "Epoch 00003: val_acc improved from 0.93126 to 0.94017, saving model to my_best_network.hdf5\n",
      "35000/35000 [==============================] - 1s 23us/sample - loss: 0.2041 - acc: 0.9466 - val_loss: 0.2617 - val_acc: 0.9402\n",
      "Epoch 4/20\n",
      "32900/35000 [===========================>..] - ETA: 0s - loss: 0.2075 - acc: 0.9493\n",
      "Epoch 00004: val_acc did not improve from 0.94017\n",
      "35000/35000 [==============================] - 1s 23us/sample - loss: 0.2112 - acc: 0.9483 - val_loss: 0.2959 - val_acc: 0.9301\n",
      "Epoch 5/20\n",
      "34800/35000 [============================>.] - ETA: 0s - loss: 0.2149 - acc: 0.9488\n",
      "Epoch 00005: val_acc improved from 0.94017 to 0.94194, saving model to my_best_network.hdf5\n",
      "35000/35000 [==============================] - 1s 23us/sample - loss: 0.2147 - acc: 0.9488 - val_loss: 0.3203 - val_acc: 0.9419\n",
      "Epoch 6/20\n",
      "34500/35000 [============================>.] - ETA: 0s - loss: 0.1786 - acc: 0.9562\n",
      "Epoch 00006: val_acc did not improve from 0.94194\n",
      "35000/35000 [==============================] - 1s 22us/sample - loss: 0.1791 - acc: 0.9560 - val_loss: 0.3343 - val_acc: 0.9323\n",
      "Epoch 7/20\n",
      "33700/35000 [===========================>..] - ETA: 0s - loss: 0.1790 - acc: 0.9577\n",
      "Epoch 00007: val_acc improved from 0.94194 to 0.94334, saving model to my_best_network.hdf5\n",
      "35000/35000 [==============================] - 1s 23us/sample - loss: 0.1798 - acc: 0.9574 - val_loss: 0.3163 - val_acc: 0.9433\n",
      "Epoch 8/20\n",
      "31100/35000 [=========================>....] - ETA: 0s - loss: 0.1652 - acc: 0.9602\n",
      "Epoch 00008: val_acc improved from 0.94334 to 0.94629, saving model to my_best_network.hdf5\n",
      "35000/35000 [==============================] - 1s 22us/sample - loss: 0.1685 - acc: 0.9602 - val_loss: 0.3376 - val_acc: 0.9463\n",
      "Epoch 9/20\n",
      "34800/35000 [============================>.] - ETA: 0s - loss: 0.1590 - acc: 0.9612\n",
      "Epoch 00009: val_acc did not improve from 0.94629\n",
      "35000/35000 [==============================] - 1s 22us/sample - loss: 0.1593 - acc: 0.9610 - val_loss: 0.3515 - val_acc: 0.9409\n",
      "Epoch 10/20\n",
      "33200/35000 [===========================>..] - ETA: 0s - loss: 0.1563 - acc: 0.9620\n",
      "Epoch 00010: val_acc did not improve from 0.94629\n",
      "35000/35000 [==============================] - 1s 24us/sample - loss: 0.1557 - acc: 0.9620 - val_loss: 0.3178 - val_acc: 0.9431\n",
      "Epoch 00010: early stopping\n"
     ]
    }
   ],
   "source": [
    "input_shape = X_train[0].shape\n",
    "vector_input = Input(shape = input_shape, name='input')\n",
    "\n",
    "fc1 = Dense(128, activation='relu', name='fc1')(vector_input)\n",
    "\n",
    "fc2 = Dense(128, activation='relu', name='fc2')(fc1)\n",
    "\n",
    "output = Dense(10, activation='softmax', name='output')(fc2)\n",
    "\n",
    "network = Model(vector_input, output, name='classification')\n",
    "\n",
    "network.summary()\n",
    "\n",
    "network.compile(loss='categorical_crossentropy', optimizer=Adam(lr=0.01), metrics=['acc'])\n",
    "\n",
    "early_stopping_cb = EarlyStopping(monitor='val_acc', min_delta=0.001, patience=2, verbose=1, mode='auto')\n",
    "model_checkpoint_cb = ModelCheckpoint(\"my_best_network.hdf5\", monitor='val_acc', verbose=1, \n",
    "                                      save_best_only=True, save_weights_only=False, mode='auto', save_freq='epoch')\n",
    "\n",
    "\n",
    "H = network.fit(X_train, y_train_one_hot,\n",
    "                batch_size=100, epochs=20,\n",
    "                validation_data=(X_test, y_test_one_hot),\n",
    "                callbacks=[early_stopping_cb, model_checkpoint_cb], \n",
    "                verbose=1)"
   ]
  },
  {
   "cell_type": "markdown",
   "metadata": {},
   "source": [
    "## TASK 3 - Recognize your own writting / 自分の手書き数字の認識\n",
    "\n",
    "In the tests above the testing data was also from MNIST.\n",
    "<br>\n",
    "Let us now try to recognize some handwritten digits that are not from MNIST.\n",
    "\n",
    "今までは、トレーニングにもテストにもMNISTのデータを使っていました。\n",
    "<br>\n",
    "今度は自分が書いた手書きの数字を認識してみましょう。"
   ]
  },
  {
   "cell_type": "markdown",
   "metadata": {},
   "source": [
    "First load the network you want to test.\n",
    "\n",
    "まず試してみたいネットワークをロードします。"
   ]
  },
  {
   "cell_type": "code",
   "execution_count": 18,
   "metadata": {},
   "outputs": [],
   "source": [
    "network = load_model(\"my_best_network.hdf5\")"
   ]
  },
  {
   "cell_type": "markdown",
   "metadata": {},
   "source": [
    "Then, use the next cell  to draw a digit to test the classifier:\n",
    "- Draw in the middle of the dark area\n",
    "- The prediction is updated at each stroke\n",
    "- Use the clear button to erase\n",
    "\n",
    "Try the classification multiple times to empirically check the accuracy of the classifier.\n",
    "\n",
    "次に、次のセルを使って数字を描いて分類器をテストしてください。\n",
    " - 暗い領域の真ん中に描いて\n",
    " - 予測は各ストロークで更新されます\n",
    " - 消去するにはクリアボタンを使用してください\n",
    "\n",
    "分類器の精度を経験的に確認するために、分類を複数回試してください。"
   ]
  },
  {
   "cell_type": "code",
   "execution_count": 19,
   "metadata": {},
   "outputs": [
    {
     "data": {
      "application/vnd.jupyter.widget-view+json": {
       "model_id": "9bb3bf63ddc5402c987270148dd3a734",
       "version_major": 2,
       "version_minor": 0
      },
      "text/plain": [
       "HBox(children=(DrawingPad(data=[[], [], []]), Button(description='Clear', style=ButtonStyle(), tooltip='Click …"
      ]
     },
     "metadata": {},
     "output_type": "display_data"
    }
   ],
   "source": [
    "import ipywidgets as widgets\n",
    "import jupyter_drawing_pad as jd\n",
    "    \n",
    "jdp = jd.CustomBox()\n",
    "draw_pad = jdp.drawing_pad\n",
    "clear_btn = jdp.children[1].children[1]\n",
    "\n",
    "out = widgets.Output(layout=widgets.Layout(width='400px'))\n",
    "\n",
    "@out.capture() \n",
    "def w_CB(change):\n",
    "    from scipy.signal import convolve2d\n",
    "    from cv2 import resize, INTER_CUBIC, cvtColor, COLOR_RGB2GRAY\n",
    "\n",
    "    data = change['new']\n",
    "    if len(data[0]) > 2:\n",
    "        # Get strokes information\n",
    "        x = np.array(data[0])\n",
    "        y = np.array(data[1])\n",
    "        t = np.array(data[2])\n",
    "\n",
    "        # assuming there is at least 200ms between each stroke \n",
    "        line_breaks = np.where(np.diff(t) > 200)[0]\n",
    "        # adding end of array\n",
    "        line_breaks = np.append(line_breaks, t.shape[0])\n",
    "        \n",
    "        # Plot to canvas\n",
    "        from matplotlib.backends.backend_agg import FigureCanvasAgg as FigureCanvas\n",
    "        fig = plt.figure()\n",
    "        canvas = FigureCanvas(fig)\n",
    "        ax = fig.gca()\n",
    "\n",
    "        # plot all strokes\n",
    "        plt.plot(x[:line_breaks[0]], y[:line_breaks[0]], color='black', linewidth=4)\n",
    "        for i in range(1, len(line_breaks)):\n",
    "            plt.plot(x[line_breaks[i-1]+1 : line_breaks[i]], y[line_breaks[i-1]+1 : line_breaks[i]], color='black', linewidth=4)\n",
    "        \n",
    "        plt.xlim(0,460)\n",
    "        plt.ylim(0,250)\n",
    "        plt.axis(\"off\")\n",
    "        \n",
    "        canvas.draw()       # draw the canvas, cache the renderer\n",
    "\n",
    "        # convert to numpy array \n",
    "        imageflat = np.frombuffer(canvas.tostring_rgb(), dtype='uint8')\n",
    "        # not sure why this size...\n",
    "        image = np.reshape(imageflat,(288, 432, 3))\n",
    "        \n",
    "        # Cut the part containing the writting\n",
    "        ind = np.where(image<255)      \n",
    "        \n",
    "        D0 = ind[0].max() - ind[0].min() \n",
    "        D1 = ind[1].max() - ind[1].min() \n",
    "        \n",
    "        C0 = int(0.5 * (ind[0].max() + ind[0].min()))\n",
    "        C1 = int(0.5 * (ind[1].max() + ind[1].min()))\n",
    "\n",
    "        if D0 > D1:\n",
    "            D = D0\n",
    "        else:\n",
    "            D = D1\n",
    "        \n",
    "        L = int(D / 2.0) + 20\n",
    "        image = image[C0 - L : C0 + L ,  C1 - L : C1 + L, :] \n",
    "    \n",
    "        # Convert to gray\n",
    "        image = 255 - cvtColor(image, COLOR_RGB2GRAY)\n",
    "        \n",
    "        # Low pass filter and resize\n",
    "        k = 12\n",
    "        I = convolve2d(image, np.ones((k,k))/k**2.0, mode=\"same\")      \n",
    "                \n",
    "        # Resize with opencv \n",
    "        I = resize(I, dsize=(28, 28), interpolation=INTER_CUBIC)\n",
    "        \n",
    "        # Clip in [0, 1]\n",
    "        I = I / I.max()\n",
    "        I = I * 3.0\n",
    "        I = I.clip(0, 1)\n",
    "        \n",
    "        # Get a feature vector\n",
    "        Xv =  I.reshape((1, 28*28)).astype(np.float64) \n",
    "        \n",
    "        # Standardization\n",
    "        Xv = scaler.transform(Xv)\n",
    "        \n",
    "        # Apply the classifier\n",
    "        y_pred_one_hot = network.predict(Xv)\n",
    "        y_prediction = np.argmax(y_pred_one_hot)\n",
    "        v = np.max(y_pred_one_hot)    \n",
    "        \n",
    "        title = \"Prediction: {} ({:.02f})\".format(y_prediction, v)    \n",
    "        \n",
    "        # draw the converted image\n",
    "        plt.clf()\n",
    "        plt.imshow(I, aspect='equal', cmap = mpl.cm.binary, interpolation='none')\n",
    "        plt.title(title)\n",
    "        plt.axis(\"off\")\n",
    "              \n",
    "        plt.show()\n",
    "\n",
    "        # To erase after tracing\n",
    "        #change['owner'].data = [[], [], []]\n",
    "        \n",
    "        # Schedule for clearing\n",
    "        out.clear_output(wait=True)\n",
    "    else:\n",
    "        pass\n",
    "        \n",
    "draw_pad.observe(w_CB, names='data')\n",
    "\n",
    "hb = widgets.HBox([draw_pad, clear_btn, out])\n",
    "display(hb)"
   ]
  },
  {
   "cell_type": "markdown",
   "metadata": {},
   "source": [
    "## OPTIONAL 1\n",
    "Until now we split the dataset into testing and training sets.\n",
    "<br>\n",
    "However, in many cases, the dataset is split between a __development set__ and a testing set.\n",
    "\n",
    "For example, in a \"competition\", the competing teams only have access to the development set to build their classifier and the testing set is kept secret by the organizers.\n",
    "<br>\n",
    "After the development period is over, the organizers use the testing set to compute the accuracy of the classifiers built by the participants to decide the winner.\n",
    "\n",
    "これまでは、データセットをテストセットとトレーニングセットに分割しました。\n",
    "<br>\n",
    "ただし、多くの場合、データセットは__開発用のセット__とテストセットに分割されています。\n",
    "\n",
    "> Even if you have access to the full data including the training dataset, it is standard practice to create a test set at the begining, put it aside, and never use it. You only use it at the very end, after you decided which classifier to use and tuned it, to get the final evaluation of the performance.\n",
    "\n",
    "Since we do not have access to the testing set, the development set is usually split in two sets:\n",
    "- a training set to train the classifier\n",
    "- a __validation set__ to check if the training is well done (validate the training).\n",
    "\n",
    "In particular, the validation set is used to stop the training before overfitting occurs (early stopping).\n",
    "\n",
    "The `fit` function provides a way to automatically create a validation set:\n",
    "- the parameter `validation_split` determine the ratio of the training data to be used for validation\n",
    "- if the parameter `shuffle` is `True` a different random split is done at each epoch\n",
    "\n",
    "The next command applies `fit` with 50% of validation data and a random shuffling at each epoch:\n",
    "\n",
    "```H = network.fit(X_train, y_train_one_hot, \n",
    "                    batch_size=100, epochs=10,\n",
    "                    validation_split=0.5 , shuffle=True,\n",
    "                    callbacks=[early_stopping_cb, \n",
    "                    model_checkpoint_cb],\n",
    "                    verbose=1)\n",
    "                    ```\n",
    "                    \n",
    "This call to `fit` also sets an `EarlyStopping` callback."
   ]
  },
  {
   "cell_type": "markdown",
   "metadata": {},
   "source": [
    "Train 3 networks using:\n",
    "- 5% of the training set for validation; save the best network as `best_network_05.hdf5`\n",
    "- 50% of the training set for validation; save the best network as `best_network_50.hdf5` \n",
    "- 95% of the training set for validation; save the best network as `best_network_95.hdf5` \n",
    "\n",
    "Check the confusion matrix on the testing set for each of these three networks."
   ]
  },
  {
   "cell_type": "code",
   "execution_count": 33,
   "metadata": {},
   "outputs": [
    {
     "name": "stdout",
     "output_type": "stream",
     "text": [
      "Train on 33250 samples, validate on 1750 samples\n",
      "Epoch 1/10\n",
      "30100/33250 [==========================>...] - ETA: 0s - loss: 0.2515 - acc: 0.9510\n",
      "Epoch 00001: val_loss improved from inf to 0.31078, saving model to best_network_05.hdf5\n",
      "33250/33250 [==============================] - 0s 15us/sample - loss: 0.2559 - acc: 0.9507 - val_loss: 0.3108 - val_acc: 0.9366\n",
      "Epoch 2/10\n",
      "32300/33250 [============================>.] - ETA: 0s - loss: 0.1996 - acc: 0.9568\n",
      "Epoch 00002: val_loss did not improve from 0.31078\n",
      "33250/33250 [==============================] - 0s 15us/sample - loss: 0.2008 - acc: 0.9566 - val_loss: 0.3964 - val_acc: 0.9429\n",
      "Epoch 3/10\n",
      "32800/33250 [============================>.] - ETA: 0s - loss: 0.1487 - acc: 0.9630\n",
      "Epoch 00003: val_loss improved from 0.31078 to 0.30156, saving model to best_network_05.hdf5\n",
      "33250/33250 [==============================] - 1s 15us/sample - loss: 0.1492 - acc: 0.9628 - val_loss: 0.3016 - val_acc: 0.9366\n",
      "Epoch 4/10\n",
      "33200/33250 [============================>.] - ETA: 0s - loss: 0.1633 - acc: 0.9601\n",
      "Epoch 00004: val_loss did not improve from 0.30156\n",
      "33250/33250 [==============================] - 1s 16us/sample - loss: 0.1633 - acc: 0.9601 - val_loss: 0.3963 - val_acc: 0.9474\n",
      "Epoch 5/10\n",
      "32300/33250 [============================>.] - ETA: 0s - loss: 0.1590 - acc: 0.9598\n",
      "Epoch 00005: val_loss did not improve from 0.30156\n",
      "33250/33250 [==============================] - 0s 15us/sample - loss: 0.1594 - acc: 0.9600 - val_loss: 0.3172 - val_acc: 0.9520\n",
      "Epoch 6/10\n",
      "32000/33250 [===========================>..] - ETA: 0s - loss: 0.1522 - acc: 0.9629\n",
      "Epoch 00006: val_loss did not improve from 0.30156\n",
      "33250/33250 [==============================] - 0s 15us/sample - loss: 0.1516 - acc: 0.9631 - val_loss: 0.5046 - val_acc: 0.9440\n",
      "Epoch 7/10\n",
      "32700/33250 [============================>.] - ETA: 0s - loss: 0.1953 - acc: 0.9585\n",
      "Epoch 00007: val_loss did not improve from 0.30156\n",
      "33250/33250 [==============================] - 0s 15us/sample - loss: 0.1979 - acc: 0.9585 - val_loss: 0.4209 - val_acc: 0.9377\n",
      "Epoch 00007: early stopping\n"
     ]
    }
   ],
   "source": [
    "model_checkpoint_cb = ModelCheckpoint(\"best_network_05.hdf5\", monitor='val_loss', verbose=1, \n",
    "                                      save_best_only=True, save_weights_only=False, mode='auto', save_fre='epoch')\n",
    "H = network.fit(X_train, y_train_one_hot, \n",
    "                    batch_size=100, epochs=10,\n",
    "                    validation_split=0.05 , shuffle=True,\n",
    "                    callbacks=[early_stopping_cb, \n",
    "                    model_checkpoint_cb],\n",
    "                    verbose=1)\n",
    "y_pred_one_hot = network.predict(X_test)"
   ]
  },
  {
   "cell_type": "code",
   "execution_count": 34,
   "metadata": {},
   "outputs": [
    {
     "name": "stdout",
     "output_type": "stream",
     "text": [
      "[[3293    1   92    2    2    5   11    1   15    1]\n",
      " [   0 3818  112    4    3    1    4    2   21    4]\n",
      " [   7    7 3383   24   21    0    6    8   27    6]\n",
      " [   1    2  182 3252    0   17    0    3   14   28]\n",
      " [   1    3  107    0 3243    2   17    7    5   47]\n",
      " [  10    0  126   54    4 2862   21    1   16   16]\n",
      " [  11    4  123    1    6    8 3346    0    6    0]\n",
      " [   5    9  225   38    3    3    1 3000    4  356]\n",
      " [   3   12  143   18    3   16   14    3 3227   24]\n",
      " [   3    3  109   14   40    6    1   15   12 3263]]\n",
      "0.9339142857142857\n"
     ]
    }
   ],
   "source": [
    "from sklearn.metrics import confusion_matrix, accuracy_score\n",
    "\n",
    "y_pred = np.argmax(y_pred_one_hot, axis=1)\n",
    "CM = confusion_matrix(y_test, y_pred)\n",
    "print(CM)\n",
    "acc = accuracy_score(y_test, y_pred)\n",
    "print(acc)"
   ]
  },
  {
   "cell_type": "code",
   "execution_count": 35,
   "metadata": {},
   "outputs": [
    {
     "name": "stdout",
     "output_type": "stream",
     "text": [
      "Train on 17500 samples, validate on 17500 samples\n",
      "Epoch 1/10\n",
      "14700/17500 [========================>.....] - ETA: 0s - loss: 0.1179 - acc: 0.9691\n",
      "Epoch 00001: val_loss improved from inf to 0.15982, saving model to best_network_50.hdf5\n",
      "17500/17500 [==============================] - 0s 24us/sample - loss: 0.1206 - acc: 0.9692 - val_loss: 0.1598 - val_acc: 0.9684\n",
      "Epoch 2/10\n",
      "14200/17500 [=======================>......] - ETA: 0s - loss: 0.1011 - acc: 0.9725\n",
      "Epoch 00002: val_loss improved from 0.15982 to 0.15366, saving model to best_network_50.hdf5\n",
      "17500/17500 [==============================] - 0s 24us/sample - loss: 0.1019 - acc: 0.9718 - val_loss: 0.1537 - val_acc: 0.9615\n",
      "Epoch 3/10\n",
      "17300/17500 [============================>.] - ETA: 0s - loss: 0.1376 - acc: 0.9702\n",
      "Epoch 00003: val_loss did not improve from 0.15366\n",
      "17500/17500 [==============================] - 0s 24us/sample - loss: 0.1403 - acc: 0.9699 - val_loss: 0.2085 - val_acc: 0.9543\n",
      "Epoch 00003: early stopping\n"
     ]
    }
   ],
   "source": [
    "model_checkpoint_cb = ModelCheckpoint(\"best_network_50.hdf5\", monitor='val_loss', verbose=1, \n",
    "                                      save_best_only=True, save_weights_only=False, mode='auto', save_freq='epoch')\n",
    "H = network.fit(X_train, y_train_one_hot, \n",
    "                    batch_size=100, epochs=10,\n",
    "                    validation_split=0.5 , shuffle=True,\n",
    "                    callbacks=[early_stopping_cb, \n",
    "                    model_checkpoint_cb],\n",
    "                    verbose=1)\n",
    "y_pred_one_hot = network.predict(X_test)"
   ]
  },
  {
   "cell_type": "code",
   "execution_count": 36,
   "metadata": {},
   "outputs": [
    {
     "name": "stdout",
     "output_type": "stream",
     "text": [
      "[[3342    2   62    0    1    4    2    1    5    4]\n",
      " [   0 3881   70    3    1    1    3    8    2    0]\n",
      " [   4    5 3404   10   15    0    2   36    9    4]\n",
      " [   1    4  422 2990    1   30    0    7   32   12]\n",
      " [   0    7   87    0 3269    2    4    4    0   59]\n",
      " [   8    3  148   21    4 2889   26    2    4    5]\n",
      " [  12    3  212    1   10    4 3256    0    5    2]\n",
      " [   6   13  167    3    5    5    0 3417    0   28]\n",
      " [   5   19  292    8    7   15   16    3 3076   22]\n",
      " [   1    8  114   17   41    7    1   26    9 3242]]\n",
      "0.9361714285714285\n"
     ]
    }
   ],
   "source": [
    "from sklearn.metrics import confusion_matrix, accuracy_score\n",
    "\n",
    "y_pred = np.argmax(y_pred_one_hot, axis=1)\n",
    "CM = confusion_matrix(y_test, y_pred)\n",
    "print(CM)\n",
    "acc = accuracy_score(y_test, y_pred)\n",
    "print(acc)"
   ]
  },
  {
   "cell_type": "code",
   "execution_count": 37,
   "metadata": {},
   "outputs": [
    {
     "name": "stdout",
     "output_type": "stream",
     "text": [
      "Train on 1750 samples, validate on 33250 samples\n",
      "Epoch 1/10\n",
      " 100/1750 [>.............................] - ETA: 0s - loss: 0.1073 - acc: 0.9500\n",
      "Epoch 00001: val_loss improved from inf to 0.17598, saving model to best_network_95.hdf5\n",
      "1750/1750 [==============================] - 0s 192us/sample - loss: 0.1009 - acc: 0.9657 - val_loss: 0.1760 - val_acc: 0.9599\n",
      "Epoch 2/10\n",
      " 100/1750 [>.............................] - ETA: 0s - loss: 0.1037 - acc: 0.9700\n",
      "Epoch 00002: val_loss did not improve from 0.17598\n",
      "1750/1750 [==============================] - 0s 190us/sample - loss: 0.0851 - acc: 0.9749 - val_loss: 0.1780 - val_acc: 0.9684\n",
      "Epoch 3/10\n",
      " 100/1750 [>.............................] - ETA: 0s - loss: 0.0419 - acc: 0.9800\n",
      "Epoch 00003: val_loss improved from 0.17598 to 0.17209, saving model to best_network_95.hdf5\n",
      "1750/1750 [==============================] - 0s 193us/sample - loss: 0.0583 - acc: 0.9777 - val_loss: 0.1721 - val_acc: 0.9682\n",
      "Epoch 4/10\n",
      " 100/1750 [>.............................] - ETA: 0s - loss: 0.0173 - acc: 0.9900\n",
      "Epoch 00004: val_loss did not improve from 0.17209\n",
      "1750/1750 [==============================] - 0s 197us/sample - loss: 0.0558 - acc: 0.9783 - val_loss: 0.1740 - val_acc: 0.9681\n",
      "Epoch 00004: early stopping\n"
     ]
    }
   ],
   "source": [
    "model_checkpoint_cb = ModelCheckpoint(\"best_network_95.hdf5\", monitor='val_loss', verbose=1, \n",
    "                                      save_best_only=True, save_weights_only=False, mode='auto', save_freq='epoch')\n",
    "H = network.fit(X_train, y_train_one_hot, \n",
    "                    batch_size=100, epochs=10,\n",
    "                    validation_split=0.95 , shuffle=True,\n",
    "                    callbacks=[early_stopping_cb, \n",
    "                    model_checkpoint_cb],\n",
    "                    verbose=1)\n",
    "y_pred_one_hot = network.predict(X_test)"
   ]
  },
  {
   "cell_type": "code",
   "execution_count": 38,
   "metadata": {},
   "outputs": [
    {
     "name": "stdout",
     "output_type": "stream",
     "text": [
      "[[3332    2    9   53    1    4    2    1   10    9]\n",
      " [   0 3863   13   54    0    1    2    8   27    1]\n",
      " [   5    3 3138  245   13    1    2   35   36   11]\n",
      " [   1    5   12 3412    0   24    0    7   31    7]\n",
      " [   0    7    6   87 3207    1    4    6    2  112]\n",
      " [   5    3    1  147    3 2908   12    1   17   13]\n",
      " [  10    3   18  164   10   19 3263    0   16    2]\n",
      " [   4   13   11  156    5    3    0 3395    6   51]\n",
      " [   4   12   12  132    5   12    6    2 3267   11]\n",
      " [   1    6    1  105   17    8    1   18   18 3291]]\n",
      "0.9450285714285714\n"
     ]
    }
   ],
   "source": [
    "from sklearn.metrics import confusion_matrix, accuracy_score\n",
    "\n",
    "y_pred = np.argmax(y_pred_one_hot, axis=1)\n",
    "CM = confusion_matrix(y_test, y_pred)\n",
    "print(CM)\n",
    "acc = accuracy_score(y_test, y_pred)\n",
    "print(acc)"
   ]
  },
  {
   "cell_type": "code",
   "execution_count": null,
   "metadata": {},
   "outputs": [],
   "source": []
  },
  {
   "cell_type": "code",
   "execution_count": null,
   "metadata": {},
   "outputs": [],
   "source": []
  }
 ],
 "metadata": {
  "kernelspec": {
   "display_name": "info_system_practice",
   "language": "python",
   "name": "info_system_practice"
  },
  "language_info": {
   "codemirror_mode": {
    "name": "ipython",
    "version": 3
   },
   "file_extension": ".py",
   "mimetype": "text/x-python",
   "name": "python",
   "nbconvert_exporter": "python",
   "pygments_lexer": "ipython3",
   "version": "3.7.6"
  }
 },
 "nbformat": 4,
 "nbformat_minor": 2
}
