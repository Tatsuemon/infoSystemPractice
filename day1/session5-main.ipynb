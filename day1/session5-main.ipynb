{
 "cells": [
  {
   "cell_type": "markdown",
   "metadata": {},
   "source": [
    "# Handwritten digits / 手書き数字"
   ]
  },
  {
   "cell_type": "markdown",
   "metadata": {},
   "source": [
    "## Dataset: MNIST / データセット：MNIST\n",
    "\n",
    "In this section, we will be using the Modified National Institute of Standards and Technology database (MNIST).\n",
    "<br>\n",
    "It is a database of handwritten digits that is commonly used in the field of machine learning.\n",
    "<br>\n",
    "Below are a few digit examples.\n",
    "\n",
    "このセクションでは、Modified National Institute of Standards and Technology（MNIST）のデータベースを使用します。\n",
    "<br>\n",
    "手書き数字のデータベースであり、機械学習の分野で一般的に使用されています。\n",
    "<br>\n",
    "数桁の例を以下に示します。\n",
    "\n",
    "<img style=\"display:inline\" src=\"./img/2.png\" width=\"40\">\n",
    "<img style=\"display:inline\" src=\"./img/6.png\" width=\"40\">\n",
    "<img style=\"display:inline\" src=\"./img/7.png\" width=\"40\">\n",
    "<img style=\"display:inline\" src=\"./img/8.png\" width=\"40\">\n",
    "<img style=\"display:inline\" src=\"./img/9.png\" width=\"40\">\n",
    "\n",
    "This dataset is often used to illustrate classification tasks.\n",
    "The \"goal\" is to classify an image in the corresponding digit category:\n",
    "- the observation is an image\n",
    "- the label/class is the digit\n",
    "\n",
    "このデータセットは、分類タスクを説明するためによく使用されます。\n",
    "「目標」は、画像を対応する数字のクラスに分類することです。\n",
    "- 観察は画像です\n",
    "- ラベル/クラスは数字です"
   ]
  },
  {
   "cell_type": "markdown",
   "metadata": {},
   "source": [
    "For example, when presented with the image\n",
    "<br>\n",
    "たとえば、分類器に次の画像を当てれば\n",
    "\n",
    "<img style=\"display:inline\" src=\"./img/2.png\" width=\"40\">\n",
    "\n",
    "the classifier should answer `2`.\n",
    "<br>\n",
    "数字`2`を出力します。"
   ]
  },
  {
   "cell_type": "code",
   "execution_count": 1,
   "metadata": {},
   "outputs": [],
   "source": [
    "import numpy as np\n",
    "import matplotlib as mpl\n",
    "import matplotlib.pyplot as plt"
   ]
  },
  {
   "cell_type": "markdown",
   "metadata": {},
   "source": [
    "#### Getting the data / データの取得\n",
    "\n",
    "We provide a wrapper class `MNISTVectorLoader` to make loading of the MNIST data easier.\n",
    "<br>\n",
    "(The class uses the `tensorflow.keras` package, about which we will talk more in the next practice day.)\n",
    "\n",
    "\n",
    "MNISTデータの読み込みを簡単にするために、ラッパークラス`MNISTVectorLoader`を提供しています。\n",
    "<br>\n",
    "（このクラスは`tensorflow.keras`というパッケージを使用します。これについては、次の実習日で詳しく説明します。）"
   ]
  },
  {
   "cell_type": "code",
   "execution_count": 2,
   "metadata": {},
   "outputs": [
    {
     "name": "stdout",
     "output_type": "stream",
     "text": [
      "Downloading data from https://storage.googleapis.com/tensorflow/tf-keras-datasets/mnist.npz\n",
      "11493376/11490434 [==============================] - 643s 56us/step\n"
     ]
    }
   ],
   "source": [
    "from mnist_loader import MNISTVectorLoader\n",
    "# the parameter (43) is used to initialize the random generator in the object - change it to get a different set\n",
    "mnist_vector_loader = MNISTVectorLoader(43) "
   ]
  },
  {
   "cell_type": "markdown",
   "metadata": {},
   "source": [
    "Training classification algorithms may take a long time for large dataset. MNIST contains `70000` samples.\n",
    "<br>\n",
    "Here, we will use a limited part of the dataset.\n",
    "\n",
    "大規模なデータセットの場合、分類アルゴリズムのトレーニングには時間がかかる場合があります。MNISTデータセットには`70000`サンプルが含まれています。\n",
    "<br>\n",
    "ここでは、データセットの一部だけを使用します。"
   ]
  },
  {
   "cell_type": "markdown",
   "metadata": {},
   "source": [
    "The method `samples` gives features `X` and labels `y`.\n",
    "\n",
    "メソッド`samples`は特徴`X`とラベル`y`を出力します。"
   ]
  },
  {
   "cell_type": "code",
   "execution_count": 4,
   "metadata": {},
   "outputs": [],
   "source": [
    "X, y = mnist_vector_loader.samples(1000) # load 1000 samples"
   ]
  },
  {
   "cell_type": "markdown",
   "metadata": {},
   "source": [
    "#### Exploring the data / データの探索"
   ]
  },
  {
   "cell_type": "markdown",
   "metadata": {},
   "source": [
    "A data point is represented by a vector of length 784 and a scalar label.\n",
    "\n",
    "一つのデータのサンプルは、長さ784のベクトルとスカラーのラベルで表されます。"
   ]
  },
  {
   "cell_type": "code",
   "execution_count": 5,
   "metadata": {},
   "outputs": [
    {
     "name": "stdout",
     "output_type": "stream",
     "text": [
      "Feature shape: (1000, 784)\n",
      "Label shape: (1000,)\n"
     ]
    }
   ],
   "source": [
    "print(\"Feature shape:\", X.shape)\n",
    "print(\"Label shape:\", y.shape)\n",
    "number_samples = X.shape[0]"
   ]
  },
  {
   "cell_type": "markdown",
   "metadata": {},
   "source": [
    "The vector of size 784 corresponds to a 28x28 image stored as a vector (it is referred to as a __feature vector__).\n",
    "\n",
    "サイズ784のベクターは、28x28の画像に対応します（これは__特徴ベクター__とも呼ばれます）。"
   ]
  },
  {
   "cell_type": "markdown",
   "metadata": {},
   "source": [
    "To avoid repeating code, we will define a helper function for plotting the digit.\n",
    "\n",
    "コードの繰り返しを避けるために、ここで数字をプロットするための関数を定義します。"
   ]
  },
  {
   "cell_type": "code",
   "execution_count": 6,
   "metadata": {},
   "outputs": [],
   "source": [
    "def plot_digit(features):\n",
    "    # features is a vector of shape (784,)\n",
    "    # numpy reshape method to transform the vector in a 2D array of shape (28, 28)\n",
    "    image = features.reshape(28, 28)\n",
    "    # matplotlib function to show an image\n",
    "    plt.figure()\n",
    "    plt.imshow(image, cmap = mpl.cm.binary, interpolation=\"nearest\")\n",
    "    plt.axis(\"off\")"
   ]
  },
  {
   "cell_type": "markdown",
   "metadata": {
    "scrolled": true
   },
   "source": [
    "Let us plot the first digit in the dataset and the associated label.\n",
    "\n",
    "データセットの最初の数字と関連するラベルをプロットしてみましょう。"
   ]
  },
  {
   "cell_type": "code",
   "execution_count": 7,
   "metadata": {
    "scrolled": true
   },
   "outputs": [
    {
     "name": "stdout",
     "output_type": "stream",
     "text": [
      "label: 7\n",
      "Feature as an image:\n"
     ]
    },
    {
     "data": {
      "image/png": "[encoded data removed]",
      "text/plain": [
       "<Figure size 432x288 with 1 Axes>"
      ]
     },
     "metadata": {
      "needs_background": "light"
     },
     "output_type": "display_data"
    }
   ],
   "source": [
    "i = 0\n",
    "print(\"label:\", y[i])\n",
    "print(\"Feature as an image:\")\n",
    "plot_digit(X[i])"
   ]
  },
  {
   "cell_type": "markdown",
   "metadata": {},
   "source": [
    "Let's plot a 6.\n",
    "\n",
    "数字 6 をプロットしましょう。"
   ]
  },
  {
   "cell_type": "code",
   "execution_count": 8,
   "metadata": {},
   "outputs": [
    {
     "data": {
      "image/png": "[encoded data removed]",
      "text/plain": [
       "<Figure size 432x288 with 1 Axes>"
      ]
     },
     "metadata": {
      "needs_background": "light"
     },
     "output_type": "display_data"
    }
   ],
   "source": [
    "for i in np.arange(y.shape[0]): \n",
    "    if y[i] == 6:\n",
    "        plot_digit(X[i])\n",
    "        break"
   ]
  },
  {
   "cell_type": "markdown",
   "metadata": {},
   "source": [
    "## Data preparation / データの準備\n",
    "\n",
    "Next, we divide the dataset in a training set (70% of data) and a testing set (rest).\n",
    "\n",
    "次に、データセットをトレーニングセット（データの70％）とテストセット（残りのデータ）に分割します。"
   ]
  },
  {
   "cell_type": "code",
   "execution_count": 9,
   "metadata": {
    "scrolled": true
   },
   "outputs": [
    {
     "name": "stdout",
     "output_type": "stream",
     "text": [
      "Training set size: 750\n",
      "Testing set size: 250\n"
     ]
    }
   ],
   "source": [
    "from sklearn.model_selection import train_test_split\n",
    "\n",
    "X_train, X_test, y_train, y_test  = train_test_split(X, y, test_size=0.25)\n",
    "\n",
    "print(\"Training set size:\", X_train.shape[0])\n",
    "print(\"Testing set size:\", X_test.shape[0])"
   ]
  },
  {
   "cell_type": "code",
   "execution_count": 10,
   "metadata": {},
   "outputs": [
    {
     "name": "stdout",
     "output_type": "stream",
     "text": [
      "3.0\n"
     ]
    }
   ],
   "source": [
    "print(X_train.shape[0]/X_test.shape[0])"
   ]
  },
  {
   "cell_type": "markdown",
   "metadata": {},
   "source": [
    "## Try  it yourself ! / 自分で試そう！\n",
    "\n",
    "[Click here](session5-playground1.ipynb) to open a sample notebook and play with spliting the dataset.\n",
    "\n",
    "[ここをクリックして](session5-playground1.ipynb)、サンプルのノートブックを開き、データセットの分割を試してください。"
   ]
  },
  {
   "cell_type": "markdown",
   "metadata": {},
   "source": [
    "Let us also apply standardization using the `StandardScaler`.\n",
    "\n",
    "`StandardScaler`を使用して標準化も適用しましょう。"
   ]
  },
  {
   "cell_type": "code",
   "execution_count": 11,
   "metadata": {},
   "outputs": [],
   "source": [
    "from sklearn.preprocessing import StandardScaler\n",
    "scaler = StandardScaler()\n",
    "\n",
    "scaler.fit(X_train)\n",
    "\n",
    "X_train_raw = X_train\n",
    "X_train = scaler.transform(X_train_raw)\n",
    "\n",
    "X_test_raw = X_test\n",
    "X_test = scaler.transform(X_test_raw)"
   ]
  },
  {
   "cell_type": "markdown",
   "metadata": {},
   "source": [
    "## Classification / 分類\n",
    "\n",
    "Now we have a training set `(X_train, y_train)` and a testing set `(X_test, y_test)`, the next step is to create a classifier.\n",
    "<br>\n",
    "Let us try another classifier from `sklearn`. This time, we will  be using the `SGDClassifier` from the package `sklearn.linear_model`.\n",
    "This classifer uses a model similar to the one of `LinearSVC`, but it is often faster to train.\n",
    "\n",
    "(_SGD_ stands for \"stochastic gradient descent\", but we will not discuss further here what that means exactly.)\n",
    "\n",
    "\n",
    "これで、トレーニングセット `（X_train、y_train）`とテストセット `（X_test、y_test）`ができました。次のステップは、分類子を作成することです。\n",
    "<br>\n",
    "`sklearn`の別の分類器を試してみましょう。今回は、`sklearn.linear_model`パッケージの`SGDClassifier`を使用します。\n",
    "この分類器は、`LinearSVC`に類似したモデルを使用していますが、データが多い場合トレーニングがより早いです。\n",
    "\n",
    "（_SGD_は「確率的勾配降下法」の英語名省略ですが、これが正確に何を意味するかについては、ここではこれ以上説明しません。）"
   ]
  },
  {
   "cell_type": "markdown",
   "metadata": {},
   "source": [
    "Define the classifier\n",
    "<br>\n",
    "分類器を定義してから"
   ]
  },
  {
   "cell_type": "code",
   "execution_count": 12,
   "metadata": {},
   "outputs": [],
   "source": [
    "from sklearn.linear_model import SGDClassifier\n",
    "sgd_classifier = SGDClassifier(max_iter = 1000, tol =  1e-3)"
   ]
  },
  {
   "cell_type": "markdown",
   "metadata": {},
   "source": [
    "and train it.\n",
    "<br>\n",
    "トレーニングさせます。"
   ]
  },
  {
   "cell_type": "code",
   "execution_count": 13,
   "metadata": {},
   "outputs": [],
   "source": [
    "sgd_classifier.fit(X_train, y_train); "
   ]
  },
  {
   "cell_type": "markdown",
   "metadata": {},
   "source": [
    "Note that this classifier has the same `fit` method as the `LinearSVC`.\n",
    "<br>\n",
    "この分類器は `LinearSVC`と同じく`fit`関数を持っています。"
   ]
  },
  {
   "cell_type": "markdown",
   "metadata": {},
   "source": [
    "Now that the classifier has been trained on the training set, let us use the testing set to check the performance.\n",
    "<br>\n",
    "The `predict` function gives the predicted value for an observation.\n",
    "\n",
    "分類器がトレーニングセットでトレーニングされたので、テストセットを使用してパフォーマンスを確認します。\n",
    "<br>\n",
    "`predict`関数は観測値に対してラベルの予測を計算します。"
   ]
  },
  {
   "cell_type": "code",
   "execution_count": 14,
   "metadata": {},
   "outputs": [
    {
     "name": "stdout",
     "output_type": "stream",
     "text": [
      "Digit label: 6\n",
      "Prediction: 6\n",
      "This is a correct prediction\n"
     ]
    },
    {
     "data": {
      "image/png": "[encoded data removed]",
      "text/plain": [
       "<Figure size 432x288 with 1 Axes>"
      ]
     },
     "metadata": {
      "needs_background": "light"
     },
     "output_type": "display_data"
    }
   ],
   "source": [
    "i = 8\n",
    "plot_digit(X_test_raw[i])\n",
    "\n",
    "# Show the truth\n",
    "print(\"Digit label:\", y_test[i])\n",
    "\n",
    "# Using predict method\n",
    "y_pred = sgd_classifier.predict([X_test[i]])[0]\n",
    "print(\"Prediction:\", y_pred)\n",
    "\n",
    "# Check the prediction\n",
    "if y_pred == y_test[i]:\n",
    "    print(\"This is a correct prediction\")\n",
    "else:\n",
    "    print(\"This is not a correct prediction\")    "
   ]
  },
  {
   "cell_type": "markdown",
   "metadata": {},
   "source": [
    "Let us check the _confusion matrix_.\n",
    "<br>\n",
    "_混同行列_を見てみましょう。"
   ]
  },
  {
   "cell_type": "code",
   "execution_count": 15,
   "metadata": {},
   "outputs": [
    {
     "name": "stdout",
     "output_type": "stream",
     "text": [
      "[[20  0  0  0  0  2  1  0  0  0]\n",
      " [ 0 33  1  0  0  0  0  0  1  0]\n",
      " [ 0  0 24  0  0  0  2  0  0  0]\n",
      " [ 0  0  2 23  0  2  0  1  1  0]\n",
      " [ 0  0  0  0 18  1  2  0  0  1]\n",
      " [ 0  1  0  1  0 15  1  0  0  0]\n",
      " [ 0  0  0  0  0  1 24  0  0  0]\n",
      " [ 0  0  0  0  1  0  0 18  0  1]\n",
      " [ 1  0  0  1  0  4  0  0 20  0]\n",
      " [ 1  0  0  0  3  1  0  2  0 19]]\n"
     ]
    }
   ],
   "source": [
    "# Let predict for all samples\n",
    "y_test_pred = sgd_classifier.predict(X_test)\n",
    "\n",
    "from sklearn.metrics import confusion_matrix\n",
    "CM = confusion_matrix(y_test, y_test_pred)\n",
    "print(CM)"
   ]
  },
  {
   "cell_type": "markdown",
   "metadata": {},
   "source": [
    "In this case, the confusion matrix is a `10x10` matrix.\n",
    "\n",
    "この場合、混同行列は大きさ 10x10 の行列です。"
   ]
  },
  {
   "cell_type": "markdown",
   "metadata": {},
   "source": [
    "For larger confusion matrices, showing a figure of the matrix where the color corresponds to the count is a convenient representation.\n",
    "\n",
    "大きい混同行列の場合、数を色で表した行列の図を表示すると便利です。"
   ]
  },
  {
   "cell_type": "code",
   "execution_count": 16,
   "metadata": {
    "scrolled": true
   },
   "outputs": [
    {
     "data": {
      "image/png": "[encoded data removed]",
      "text/plain": [
       "<Figure size 432x288 with 2 Axes>"
      ]
     },
     "metadata": {
      "needs_background": "light"
     },
     "output_type": "display_data"
    }
   ],
   "source": [
    "plt.imshow(CM)\n",
    "plt.xlabel(\"Predicted labels\")\n",
    "plt.ylabel(\"True labes\")\n",
    "plt.title(\"True vs predicted labels\")\n",
    "cbar = plt.colorbar()\n",
    "cbar.ax.set_title(\"#samples\", rotation=0);"
   ]
  },
  {
   "cell_type": "markdown",
   "metadata": {},
   "source": [
    "#### Saving the learned classifier / 学習した分類子の保存\n",
    "\n",
    "We would like to use the results in other notebooks too. So let us save the testing set, the trained scaler and the trained classifier to a file.\n",
    "<br>\n",
    "We will use the `gzip` and `pickle` libraries.\n",
    "\n",
    "ここで得た分類器などを他のノートブックにも使用できれば便利です。テストセット、トレーニング済みのスケーラーと、トレーニング済みの分類器をファイルに保存しましょう。\n",
    "<br>\n",
    "`gzip`と`pickle`ライブラリを使用します。"
   ]
  },
  {
   "cell_type": "code",
   "execution_count": 17,
   "metadata": {},
   "outputs": [],
   "source": [
    "import gzip\n",
    "import pickle\n",
    "output_file = \"./data/mnist_classification.pkl.gz\"\n",
    "with gzip.open( output_file, \"wb\") as fp:\n",
    "    pickle.dump([X_test, y_test, scaler, sgd_classifier], fp)"
   ]
  },
  {
   "cell_type": "markdown",
   "metadata": {},
   "source": [
    "## Try  it yourself ! / 自分で試そう！\n",
    "\n",
    "Up to now the testing data were also from the MNIST dataset.\n",
    "<br>\n",
    "To challenge the classifier, let us try to recognize some handwritten digits that are not from MNIST.\n",
    "\n",
    "[Click here](session5-playground2.ipynb) to open a sample notebook and write digits by yourself to test the classifier.\n",
    "\n",
    "これまでのところ、テストはMNISTデータセットから得られたものでした。\n",
    "<br>\n",
    "分類器により難しいテストを与えるために、MNISTからではない手書きの数字を使ってみましょう。\n",
    "\n",
    "[ここをクリックして](session5-playground2.ipynb)、サンプルのノートブックを開き、自分が書いた数字の分類を行ってみてください。"
   ]
  },
  {
   "cell_type": "markdown",
   "metadata": {},
   "source": [
    "---\n",
    "\n",
    "\n",
    "## Try  it yourself ! / 自分で試そう！ (Optional)\n",
    "\n",
    "[Click here](session5-playground3.ipynb) to open a sample notebook to see how the quality of the dataset influences the results.\n",
    "\n",
    "[ここをクリックして](session5-playground2.ipynb)、サンプルのノートブックを開き、データセットの品質が結果にどのように影響するかを確認しましょう。"
   ]
  }
 ],
 "metadata": {
  "kernelspec": {
   "display_name": "info_system_practice",
   "language": "python",
   "name": "info_system_practice"
  },
  "language_info": {
   "codemirror_mode": {
    "name": "ipython",
    "version": 3
   },
   "file_extension": ".py",
   "mimetype": "text/x-python",
   "name": "python",
   "nbconvert_exporter": "python",
   "pygments_lexer": "ipython3",
   "version": "3.7.6"
  }
 },
 "nbformat": 4,
 "nbformat_minor": 2
}
