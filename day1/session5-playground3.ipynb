{
 "cells": [
  {
   "cell_type": "markdown",
   "metadata": {},
   "source": [
    "## Session5 - playground3 (Optional)"
   ]
  },
  {
   "cell_type": "code",
   "execution_count": 14,
   "metadata": {},
   "outputs": [],
   "source": [
    "import numpy as np\n",
    "import matplotlib as mpl\n",
    "import matplotlib.pyplot as plt"
   ]
  },
  {
   "cell_type": "code",
   "execution_count": 15,
   "metadata": {},
   "outputs": [],
   "source": [
    "from mnist_loader import MNISTVectorLoader\n",
    "mnist_vector_loader = MNISTVectorLoader(42)\n",
    "X, y = mnist_vector_loader.samples(1000)"
   ]
  },
  {
   "cell_type": "code",
   "execution_count": 16,
   "metadata": {},
   "outputs": [],
   "source": [
    "from sklearn.model_selection import train_test_split\n",
    "from sklearn.preprocessing import StandardScaler\n",
    "\n",
    "X_train, X_test, y_train, y_test  = train_test_split(X, y, test_size=0.25)\n",
    "\n",
    "scaler = StandardScaler()\n",
    "scaler.fit(X_train)\n",
    "X_train = scaler.transform(X_train)\n",
    "X_test = scaler.transform(X_test)"
   ]
  },
  {
   "cell_type": "markdown",
   "metadata": {},
   "source": [
    "Here, we will create a dataset with a certain amount of labelling errors.\n",
    "\n",
    "ここでは、一部のラベル付けが間違えているデータセットを作成します。"
   ]
  },
  {
   "cell_type": "code",
   "execution_count": 17,
   "metadata": {},
   "outputs": [],
   "source": [
    "# Error ratio / エラー率\n",
    "error_ratio = 0.05"
   ]
  },
  {
   "cell_type": "code",
   "execution_count": 18,
   "metadata": {},
   "outputs": [
    {
     "name": "stdout",
     "output_type": "stream",
     "text": [
      "Wrong labels in training set: 37 / 750\n"
     ]
    }
   ],
   "source": [
    "# training set with errors / エラーを含めているトレーニングセット\n",
    "number_errors = int(error_ratio * y_train.shape[0])\n",
    "indices = np.random.permutation(y_train.shape[0])[:number_errors] # randomly select number_errors samples to modify\n",
    "y_train_error = y_train.copy()\n",
    "y_train_error[indices] = y_train_error[indices] + 1\n",
    "y_train_error[y_train_error>9] = 0\n",
    "print(\"Wrong labels in training set: {} / {}\".format(number_errors, y_train.shape[0]))"
   ]
  },
  {
   "cell_type": "code",
   "execution_count": 19,
   "metadata": {},
   "outputs": [
    {
     "name": "stdout",
     "output_type": "stream",
     "text": [
      "Wrong labels in testing set: 12 / 250\n"
     ]
    }
   ],
   "source": [
    "# testing set with errors / エラーを含めているテストセット\n",
    "number_errors = int(error_ratio * y_test.shape[0])\n",
    "indices = np.random.permutation(y_test.shape[0])[:number_errors]\n",
    "y_test_error = y_test.copy()\n",
    "y_test_error[indices] = y_test_error[indices] + 1\n",
    "y_test_error[y_test_error>9] = 0\n",
    "print(\"Wrong labels in testing set: {} / {}\".format(number_errors, y_test.shape[0]))"
   ]
  },
  {
   "cell_type": "markdown",
   "metadata": {},
   "source": [
    "## OPTIONAL 1\n",
    "-  Train a classifier with the dataset containing labelling error `X_train, y_train_error`.\n",
    "\n",
    "\n",
    "- ラベル付けエラーを含むデータセット`X_train、y_train_error`で分類器をトレーニングしてください。"
   ]
  },
  {
   "cell_type": "code",
   "execution_count": 20,
   "metadata": {},
   "outputs": [],
   "source": [
    "from sklearn.linear_model import SGDClassifier\n",
    "sgd_classifier = SGDClassifier(max_iter = 1000, tol =  1e-3)\n",
    "\n",
    "sgd_classifier.fit(X_train, y_train_error); "
   ]
  },
  {
   "cell_type": "markdown",
   "metadata": {},
   "source": [
    "## OPTIONAL 2\n",
    "Test the performance of the trained classifier with:\n",
    "- the test set `X_test, y_test`\n",
    "- the testing set containing labelling error `X_test, y_test_error`\n",
    "\n",
    "\n",
    "トレーニングされた分類器のパフォーマンスを試してください。\n",
    "- 元のテストセット`X_test、y_test`を使って\n",
    "- ラベル付けエラーを含むテストセット `X_test、y_test_error`を使って"
   ]
  },
  {
   "cell_type": "code",
   "execution_count": 21,
   "metadata": {},
   "outputs": [
    {
     "name": "stdout",
     "output_type": "stream",
     "text": [
      "[[24  0  0  1  0  1  0  0  0  0]\n",
      " [ 0 27  2  0  0  0  0  0  0  2]\n",
      " [ 0  0 27  2  0  0  3  0  1  0]\n",
      " [ 0  0  0 15  0  2  0  0  0  1]\n",
      " [ 0  0  0  0 17  1  1  1  1  0]\n",
      " [ 0  0  0  1  1 20  1  0  2  1]\n",
      " [ 0  0  0  0  0  0 21  0  0  0]\n",
      " [ 0  0  0  0  0  0  0 22  1  2]\n",
      " [ 0  1  0  1  0  1  1  1 18  1]\n",
      " [ 1  0  0  1  1  0  0  3  1 18]]\n"
     ]
    }
   ],
   "source": [
    "# y_test\n",
    "y_test_pred = sgd_classifier.predict(X_test)\n",
    "\n",
    "from sklearn.metrics import confusion_matrix\n",
    "CM = confusion_matrix(y_test, y_test_pred)\n",
    "print(CM)"
   ]
  },
  {
   "cell_type": "code",
   "execution_count": 22,
   "metadata": {},
   "outputs": [
    {
     "data": {
      "image/png": "[encoded data removed]",
      "text/plain": [
       "<Figure size 432x288 with 2 Axes>"
      ]
     },
     "metadata": {
      "needs_background": "light"
     },
     "output_type": "display_data"
    }
   ],
   "source": [
    "plt.imshow(CM)\n",
    "plt.xlabel(\"Predicted labels\")\n",
    "plt.ylabel(\"True labes\")\n",
    "plt.title(\"True vs predicted labels\")\n",
    "cbar = plt.colorbar()\n",
    "cbar.ax.set_title(\"#samples\", rotation=0);"
   ]
  },
  {
   "cell_type": "code",
   "execution_count": 23,
   "metadata": {},
   "outputs": [
    {
     "name": "stdout",
     "output_type": "stream",
     "text": [
      "Class '0' : P = 0.96 R = 0.92  F = 0.94\n",
      "Class '1' : P = 0.96 R = 0.87  F = 0.92\n",
      "Class '2' : P = 0.93 R = 0.82  F = 0.87\n"
     ]
    }
   ],
   "source": [
    "P = np.diag(CM) / np.sum(CM, axis = 0)\n",
    "R = np.diag(CM) / np.sum(CM, axis = 1)\n",
    "F = 2.0 * R * P / (R + P) # 1 / ((1/P + 1/R) / 2 ) = 2 * R * P / (R + P)\n",
    "for i in range(3):\n",
    "    print(\"Class '{}' : P = {:.02f} R = {:.02f}  F = {:.02f}\".format(i, P[i], R[i], F[i]))"
   ]
  },
  {
   "cell_type": "code",
   "execution_count": 24,
   "metadata": {},
   "outputs": [
    {
     "name": "stdout",
     "output_type": "stream",
     "text": [
      "[[24  0  0  1  0  1  0  0  0  2]\n",
      " [ 0 25  2  0  0  0  0  0  0  2]\n",
      " [ 0  2 25  2  0  0  3  0  1  0]\n",
      " [ 0  0  2 15  0  2  0  0  0  1]\n",
      " [ 0  0  0  0 16  1  1  1  1  0]\n",
      " [ 0  0  0  1  2 18  1  0  2  1]\n",
      " [ 0  0  0  0  0  2 20  0  0  0]\n",
      " [ 0  0  0  0  0  0  1 20  1  2]\n",
      " [ 0  1  0  1  0  1  1  3 18  1]\n",
      " [ 1  0  0  1  1  0  0  3  1 16]]\n"
     ]
    }
   ],
   "source": [
    "# y_test\n",
    "y_test_pred = sgd_classifier.predict(X_test)\n",
    "\n",
    "from sklearn.metrics import confusion_matrix\n",
    "CM = confusion_matrix(y_test_error, y_test_pred)\n",
    "print(CM)"
   ]
  },
  {
   "cell_type": "code",
   "execution_count": 25,
   "metadata": {},
   "outputs": [
    {
     "data": {
      "image/png": "[encoded data removed]",
      "text/plain": [
       "<Figure size 432x288 with 2 Axes>"
      ]
     },
     "metadata": {
      "needs_background": "light"
     },
     "output_type": "display_data"
    }
   ],
   "source": [
    "plt.imshow(CM)\n",
    "plt.xlabel(\"Predicted labels\")\n",
    "plt.ylabel(\"True labes\")\n",
    "plt.title(\"True vs predicted labels\")\n",
    "cbar = plt.colorbar()\n",
    "cbar.ax.set_title(\"#samples\", rotation=0);"
   ]
  },
  {
   "cell_type": "code",
   "execution_count": 26,
   "metadata": {},
   "outputs": [
    {
     "name": "stdout",
     "output_type": "stream",
     "text": [
      "Class '0' : P = 0.96 R = 0.86  F = 0.91\n",
      "Class '1' : P = 0.89 R = 0.86  F = 0.88\n",
      "Class '2' : P = 0.86 R = 0.76  F = 0.81\n"
     ]
    }
   ],
   "source": [
    "P = np.diag(CM) / np.sum(CM, axis = 0)\n",
    "R = np.diag(CM) / np.sum(CM, axis = 1)\n",
    "F = 2.0 * R * P / (R + P) # 1 / ((1/P + 1/R) / 2 ) = 2 * R * P / (R + P)\n",
    "for i in range(3):\n",
    "    print(\"Class '{}' : P = {:.02f} R = {:.02f}  F = {:.02f}\".format(i, P[i], R[i], F[i]))"
   ]
  },
  {
   "cell_type": "markdown",
   "metadata": {},
   "source": [
    "- Try changing the values of `error_ratio` to see how it influences the performance\n",
    "\n",
    "\n",
    "- `error_ratio`の値を変更して、パフォーマンスにどのように影響するかを確認してください"
   ]
  },
  {
   "cell_type": "code",
   "execution_count": 27,
   "metadata": {},
   "outputs": [],
   "source": [
    "# Error ratio / エラー率\n",
    "error_ratio = 0.1"
   ]
  },
  {
   "cell_type": "code",
   "execution_count": 28,
   "metadata": {},
   "outputs": [
    {
     "name": "stdout",
     "output_type": "stream",
     "text": [
      "Wrong labels in training set: 75 / 750\n"
     ]
    }
   ],
   "source": [
    "# training set with errors / エラーを含めているトレーニングセット\n",
    "number_errors = int(error_ratio * y_train.shape[0])\n",
    "indices = np.random.permutation(y_train.shape[0])[:number_errors] # randomly select number_errors samples to modify\n",
    "y_train_error = y_train.copy()\n",
    "y_train_error[indices] = y_train_error[indices] + 1\n",
    "y_train_error[y_train_error>9] = 0\n",
    "print(\"Wrong labels in training set: {} / {}\".format(number_errors, y_train.shape[0]))"
   ]
  },
  {
   "cell_type": "code",
   "execution_count": 29,
   "metadata": {},
   "outputs": [
    {
     "name": "stdout",
     "output_type": "stream",
     "text": [
      "Wrong labels in testing set: 25 / 250\n"
     ]
    }
   ],
   "source": [
    "# testing set with errors / エラーを含めているテストセット\n",
    "number_errors = int(error_ratio * y_test.shape[0])\n",
    "indices = np.random.permutation(y_test.shape[0])[:number_errors]\n",
    "y_test_error = y_test.copy()\n",
    "y_test_error[indices] = y_test_error[indices] + 1\n",
    "y_test_error[y_test_error>9] = 0\n",
    "print(\"Wrong labels in testing set: {} / {}\".format(number_errors, y_test.shape[0]))"
   ]
  },
  {
   "cell_type": "code",
   "execution_count": 30,
   "metadata": {},
   "outputs": [],
   "source": [
    "from sklearn.linear_model import SGDClassifier\n",
    "sgd_classifier = SGDClassifier(max_iter = 1000, tol =  1e-3)\n",
    "\n",
    "sgd_classifier.fit(X_train, y_train_error); "
   ]
  },
  {
   "cell_type": "code",
   "execution_count": 31,
   "metadata": {},
   "outputs": [
    {
     "name": "stdout",
     "output_type": "stream",
     "text": [
      "[[20  3  0  0  0  0  0  0  0  2]\n",
      " [ 2 23  5  0  0  0  0  0  1  0]\n",
      " [ 0  3 23  1  0  0  1  1  1  1]\n",
      " [ 0  0  3 15  0  0  2  0  1  1]\n",
      " [ 0  0  0  1 13  1  0  2  0  4]\n",
      " [ 0  0  0  0  3 14  3  0  1  1]\n",
      " [ 0  0  1  0  1  4 17  1  0  0]\n",
      " [ 3  0  0  0  0  0  1 20  0  1]\n",
      " [ 0  1  0  0  0  0  2  1 19  2]\n",
      " [ 2  0  0  1  1  0  0  2  1 17]]\n"
     ]
    }
   ],
   "source": [
    "# y_test\n",
    "y_test_pred = sgd_classifier.predict(X_test)\n",
    "\n",
    "from sklearn.metrics import confusion_matrix\n",
    "CM = confusion_matrix(y_test_error, y_test_pred)\n",
    "print(CM)"
   ]
  },
  {
   "cell_type": "code",
   "execution_count": 32,
   "metadata": {},
   "outputs": [
    {
     "data": {
      "image/png": "[encoded data removed]",
      "text/plain": [
       "<Figure size 432x288 with 2 Axes>"
      ]
     },
     "metadata": {
      "needs_background": "light"
     },
     "output_type": "display_data"
    }
   ],
   "source": [
    "plt.imshow(CM)\n",
    "plt.xlabel(\"Predicted labels\")\n",
    "plt.ylabel(\"True labes\")\n",
    "plt.title(\"True vs predicted labels\")\n",
    "cbar = plt.colorbar()\n",
    "cbar.ax.set_title(\"#samples\", rotation=0);"
   ]
  },
  {
   "cell_type": "code",
   "execution_count": 33,
   "metadata": {},
   "outputs": [
    {
     "name": "stdout",
     "output_type": "stream",
     "text": [
      "Class '0' : P = 0.74 R = 0.80  F = 0.77\n",
      "Class '1' : P = 0.77 R = 0.74  F = 0.75\n",
      "Class '2' : P = 0.72 R = 0.74  F = 0.73\n"
     ]
    }
   ],
   "source": [
    "P = np.diag(CM) / np.sum(CM, axis = 0)\n",
    "R = np.diag(CM) / np.sum(CM, axis = 1)\n",
    "F = 2.0 * R * P / (R + P) # 1 / ((1/P + 1/R) / 2 ) = 2 * R * P / (R + P)\n",
    "for i in range(3):\n",
    "    print(\"Class '{}' : P = {:.02f} R = {:.02f}  F = {:.02f}\".format(i, P[i], R[i], F[i]))"
   ]
  },
  {
   "cell_type": "code",
   "execution_count": null,
   "metadata": {},
   "outputs": [],
   "source": []
  }
 ],
 "metadata": {
  "kernelspec": {
   "display_name": "Python 3",
   "language": "python",
   "name": "python3"
  },
  "language_info": {
   "codemirror_mode": {
    "name": "ipython",
    "version": 3
   },
   "file_extension": ".py",
   "mimetype": "text/x-python",
   "name": "python",
   "nbconvert_exporter": "python",
   "pygments_lexer": "ipython3",
   "version": "3.7.6"
  }
 },
 "nbformat": 4,
 "nbformat_minor": 2
}
