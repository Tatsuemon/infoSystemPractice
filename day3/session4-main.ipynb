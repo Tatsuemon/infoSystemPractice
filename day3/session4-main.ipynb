{
 "cells": [
  {
   "cell_type": "markdown",
   "metadata": {},
   "source": [
    "# Natural language processing / 自然言語処理\n",
    "\n",
    "Google Cloud Platform offers also several services for language processing.\n",
    "\n",
    "Google Cloud Platformは言語処理のためのいくつかのサービスを提供しています。"
   ]
  },
  {
   "cell_type": "markdown",
   "metadata": {},
   "source": [
    "## Text sentiment analysis / テキストの感情分析"
   ]
  },
  {
   "cell_type": "markdown",
   "metadata": {},
   "source": [
    "Sentiment analysis is the process of estimating what is the basic sentiment of a text - positive, like happy, or negative, e.g. angry. \n",
    "\n",
    "The code for doing sentiment analysis with GCP is similar to the previous examples, except that we use text instead of images. \n",
    "Below we go step by step through one example.\n",
    "\n",
    "(Similar to google-cloud-vision, if you use your own local installation you will need to install the necessary libraries first: `pip install google-cloud-language`)\n",
    "\n",
    "感情分析は、テキストの基本的な感情が何であるか（嬉しい等のポジティブな感情、または怒っている等のネガティブな感情）を推定する処理です。\n",
    "\n",
    "GCPを使用して感情分析を実行するためのコードは前の例と似ていますが、画像の代わりにテキストを使用します。\n",
    "以下では、一例を順を追って説明します。\n",
    "\n",
    "（google-cloud-visionの時と同じ、ローカルインストールを使う場合、まず必要なライブラリをインストールする必要があります：`pip install google-cloud-language`）"
   ]
  },
  {
   "cell_type": "code",
   "execution_count": null,
   "metadata": {},
   "outputs": [],
   "source": [
    "%env GOOGLE_APPLICATION_CREDENTIALS=gcp_credentials/mlpractice2020.json"
   ]
  },
  {
   "cell_type": "markdown",
   "metadata": {},
   "source": [
    "Load the needed Google Cloud libraries\n",
    "\n",
    "必要なGoogle Cloudライブラリをインポートします"
   ]
  },
  {
   "cell_type": "code",
   "execution_count": null,
   "metadata": {},
   "outputs": [],
   "source": [
    "from google.cloud import language\n",
    "from google.cloud.language import enums\n",
    "from google.cloud.language import types"
   ]
  },
  {
   "cell_type": "markdown",
   "metadata": {},
   "source": [
    "To test the sentiment analysis we will use a dataset of reviews from the Internet Movie Database (IMDB) page. These are reviews of movies which people wrote on the site. Each review also has associated a numerical value - the number of stars that the person gave to the movie. We can expect that the sentiment of the review should correlate well with the number of stars.\n",
    "\n",
    "The whole dataset is very large (it is available [here](http://ai.stanford.edu/~amaas/data/sentiment/aclImdb_v1.tar.gz)) so we provided just a small sample of 5 positive and 5 negative reviews. \n",
    "\n",
    "The files are inside the folder `imdb`. Open the folder and check its content.\n",
    "\n",
    "感情分析を試すために、Internet Movie Database（IMDB）ページからのレビューのデータセットを使用します。これらはユーザがサイトに書いた映画のレビューです。各レビューには、数値（映画に付けた星の数）も関連付けられています。レビューの感想は星の数とよく相関すると思われます。\n",
    "\n",
    "データセット全体がかなり大きいため（[ここ](http://ai.stanford.edu/~amaas/data/sentiment/aclImdb_v1.tar.gz)で入手可能）、5つのポジティブレビューと5つのネガティブレビューのほんの一部を予めダウンロードしました。\n",
    "\n",
    "レビューが入っているファイルはフォルダimdbの中にあります。フォルダを開いて中身を見てください。"
   ]
  },
  {
   "cell_type": "markdown",
   "metadata": {},
   "source": [
    "The files whose names end with `_1.txt` recieved 1 star (very negative review), whereas the ones ending with `_10.txt` recieved 10 stars (very positive review).\n",
    "<br>\n",
    "Let's see the content of one of them.\n",
    "\n",
    "名前が`_1.txt`で終わるファイルは1つ星（非常に否定的なレビュー）をつけられた映画のレビューです。一方、`_10.txt`で終わるファイルは10つ星（非常に肯定的なレビュー）のレビューです。\n",
    "<br>\n",
    "1つのファイルの内容を見てみましょう。"
   ]
  },
  {
   "cell_type": "code",
   "execution_count": null,
   "metadata": {},
   "outputs": [],
   "source": [
    "## SET THIS TO NAME OF ONE OF THE REVIEW FILES \n",
    "movie_review_filename=\"imdb/27_10.txt\"\n",
    "\n",
    "with open(movie_review_filename, 'r') as review_file:\n",
    "    print(review_file.read())"
   ]
  },
  {
   "cell_type": "markdown",
   "metadata": {},
   "source": [
    "Next read file contaning the review and prepare data\n",
    "\n",
    "レビューをファイルから読み込んで、データの準備をします。"
   ]
  },
  {
   "cell_type": "code",
   "execution_count": null,
   "metadata": {},
   "outputs": [],
   "source": [
    "# read content of file\n",
    "with open(movie_review_filename, 'r') as review_file:\n",
    "    content = review_file.read()\n",
    "\n",
    "# define Document data\n",
    "document = types.Document(\n",
    "    content=content,\n",
    "    type=enums.Document.Type.PLAIN_TEXT)"
   ]
  },
  {
   "cell_type": "markdown",
   "metadata": {},
   "source": [
    "Run sentiment analysis\n",
    "\n",
    "感情分析の実行"
   ]
  },
  {
   "cell_type": "code",
   "execution_count": null,
   "metadata": {},
   "outputs": [],
   "source": [
    "client = language.LanguageServiceClient()\n",
    "annotations = client.analyze_sentiment(document=document)"
   ]
  },
  {
   "cell_type": "markdown",
   "metadata": {},
   "source": [
    "Print the result. `score` takes value from -1 to 1. Negative score value means negative sentiment, and positive value positive.\n",
    "\n",
    "結果をプリントしましょう。変数`score`には-1から1までの値です。負のスコア値は負の感情を意味し、正の値は正を意味します。"
   ]
  },
  {
   "cell_type": "code",
   "execution_count": null,
   "metadata": {},
   "outputs": [],
   "source": [
    "score = annotations.document_sentiment.score\n",
    "\n",
    "# print sentiment for whole review\n",
    "print('Overall Sentiment: score of {}'.format(score))"
   ]
  },
  {
   "cell_type": "markdown",
   "metadata": {},
   "source": [
    "Does the score match the expected sentiment?\n",
    "\n",
    "スコアは予想された感情と一致しますか？"
   ]
  },
  {
   "cell_type": "markdown",
   "metadata": {},
   "source": [
    "Results also contain the detected sentiment for each sentence so you can also see how each sentence contributes to the overall score.\n",
    "\n",
    "結果には、各センテンスに対して検出された感情も含まれています。各センテンスが全体的なスコアにどのように影響しているかもわかります。"
   ]
  },
  {
   "cell_type": "code",
   "execution_count": null,
   "metadata": {},
   "outputs": [],
   "source": [
    "for index, sentence in enumerate(annotations.sentences):\n",
    "    print('Sentence {}\\n\"{}\"\\nhas a sentiment score of {}'.format(\n",
    "        index, sentence.text.content, sentence.sentiment.score))"
   ]
  },
  {
   "cell_type": "markdown",
   "metadata": {},
   "source": [
    "Try running the analysis also on a few other reviews from the `imdb` folder.\n",
    "\n",
    "`imdb`フォルダーからの他のいくつかのレビューでも分析を実行してみてください。"
   ]
  },
  {
   "cell_type": "markdown",
   "metadata": {},
   "source": [
    "## Try  it yourself ! / 自分で試そう！\n",
    "\n",
    "Now open the [notebook with exercises](session4-playground.ipynb) to try more things. \n",
    "\n",
    "他にいろいろ試すために[練習問題のノートブック](session4-playground.ipynb)を開いてください。"
   ]
  }
 ],
 "metadata": {
  "kernelspec": {
   "display_name": "Python 3",
   "language": "python",
   "name": "python3"
  },
  "language_info": {
   "codemirror_mode": {
    "name": "ipython",
    "version": 3
   },
   "file_extension": ".py",
   "mimetype": "text/x-python",
   "name": "python",
   "nbconvert_exporter": "python",
   "pygments_lexer": "ipython3",
   "version": "3.7.7"
  }
 },
 "nbformat": 4,
 "nbformat_minor": 2
}
