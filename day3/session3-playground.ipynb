{
 "cells": [
  {
   "cell_type": "markdown",
   "metadata": {},
   "source": [
    "## Session3 - playground"
   ]
  },
  {
   "cell_type": "code",
   "execution_count": null,
   "metadata": {},
   "outputs": [],
   "source": [
    "%env GOOGLE_APPLICATION_CREDENTIALS=gcp_credentials/mlpractice2020.json"
   ]
  },
  {
   "cell_type": "markdown",
   "metadata": {},
   "source": [
    "## OPTIONAL 1\n",
    "\n",
    "Use the code for labeling the image on an image of your choice.\n",
    "\n",
    "自分で選んだ画像にラベルを付けるためのコードを書いてください。"
   ]
  },
  {
   "cell_type": "code",
   "execution_count": null,
   "metadata": {},
   "outputs": [],
   "source": [
    "### YOUR CODE HERE"
   ]
  },
  {
   "cell_type": "markdown",
   "metadata": {},
   "source": [
    "## OPTIONAL 2\n",
    "\n",
    "If you want to detect popular landmarks (e.g Eiffel tower) in images you can use landmark detection. The command you will need for that is:\n",
    "\n",
    "`client.landmark_detection(image=image).landmark_annotations`\n",
    "\n",
    "The rest of the code is basically the same as for logo detection.\n",
    "<br>\n",
    "In the cell below write the code to detect a landmark in an image from the web.\n",
    "\n",
    "\n",
    "画像内で人気のあるランドマーク（例：エッフェル塔）を検出するサービスも利用できます。そのために必要なコマンドは次のとおりです。\n",
    "\n",
    "`client.landmark_detection(image=image).landmark_annotations`\n",
    "\n",
    "コードの残りの部分は基本的にロゴの検出と同じです。\n",
    "<br>\n",
    "下のセルに、Webからの画像の内にランドマークを検出するためのコードを書いてください。"
   ]
  },
  {
   "cell_type": "code",
   "execution_count": null,
   "metadata": {},
   "outputs": [],
   "source": [
    "### YOUR CODE HERE"
   ]
  },
  {
   "cell_type": "markdown",
   "metadata": {},
   "source": [
    "## OPTIONAL 3\n",
    "\n",
    "Do you have a famous logo on your clothes or bag? Or perhaps you have your own pictures of a famous landmark from a trip you made.\n",
    "<br>\n",
    "Upload them to the server and write the code to detect them (load images from file).\n",
    "\n",
    "服やバッグ等に有名なロゴが付いていますか？あるいは、旅行で有名なランドマークの写真を取りましたか。\n",
    "舌にコードを書いて、その写真のロゴ・ランドマーク検出を行ってみてください。（画像はファイルから読み込まなければなりません）"
   ]
  },
  {
   "cell_type": "code",
   "execution_count": null,
   "metadata": {},
   "outputs": [],
   "source": [
    "### YOUR CODE HERE"
   ]
  }
 ],
 "metadata": {
  "kernelspec": {
   "display_name": "Python 3",
   "language": "python",
   "name": "python3"
  },
  "language_info": {
   "codemirror_mode": {
    "name": "ipython",
    "version": 3
   },
   "file_extension": ".py",
   "mimetype": "text/x-python",
   "name": "python",
   "nbconvert_exporter": "python",
   "pygments_lexer": "ipython3",
   "version": "3.7.7"
  }
 },
 "nbformat": 4,
 "nbformat_minor": 2
}
