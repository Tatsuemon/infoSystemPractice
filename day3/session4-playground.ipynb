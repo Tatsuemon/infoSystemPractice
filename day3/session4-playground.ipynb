{
 "cells": [
  {
   "cell_type": "markdown",
   "metadata": {},
   "source": [
    "## Session4 - playground"
   ]
  },
  {
   "cell_type": "code",
   "execution_count": null,
   "metadata": {},
   "outputs": [],
   "source": [
    "%env GOOGLE_APPLICATION_CREDENTIALS=gcp_credentials/mlpractice2020.json"
   ]
  },
  {
   "cell_type": "markdown",
   "metadata": {},
   "source": [
    "## TASK 1\n",
    "\n",
    "Open any web page which has reviews of products or places, e.g. Amazon, Tabelog, etc. (in any language supported by Google). Pick 2 positive and 2 negative reviews and save them as text files. \n",
    "<br>\n",
    "In the cell below write the code for doing sentiment analysis on each of them. \n",
    "\n",
    "Do the results match the review grades?\n",
    "\n",
    "商品や場所のレビューがあるウェブページを開いてください。例えば、Amazon、Tabelogなど（Googleがサポートする任意の言語で）。その中から1つの肯定的なレビューと1つの否定的なレビューを選んでテキストファイルとして保存してください。\n",
    "<br>\n",
    "以下のセルに、感情分析を行うためのコードを書いてください。\n",
    "\n",
    "結果はレビューの成績と一致しますか？"
   ]
  },
  {
   "cell_type": "markdown",
   "metadata": {},
   "source": [
    "> _Note_ : If you are getting errors like UnicodeDecodeError, you may have to specify the encoding of the file using the parameter `encoding` as shown in the example below.\n",
    "<br>\n",
    "> _注意_ ：日本語のファイルを読み込むとき UnicodeDecodeError のようなエラーが出る可能性があります。そのときにパラメータ`encoding`を使ってファイルのエンコーディングを指定する必要があります。以下は使い方の例です。\n",
    "> ```python\n",
    "with open(review_filename, 'r', encoding='utf-8') as review_file:\n",
    "```\n"
   ]
  },
  {
   "cell_type": "code",
   "execution_count": null,
   "metadata": {},
   "outputs": [],
   "source": [
    "## YOUR CODE HERE"
   ]
  },
  {
   "cell_type": "markdown",
   "metadata": {},
   "source": [
    "## OPTIONAL 1\n",
    "\n",
    "Write a text consisting of 2 to 3 sentences and run sentiment analysis on it. \n",
    "<br>\n",
    "Can you obtain a score above 0.8 (very positive)?\n",
    "\n",
    "2〜3文からなる文章を書き、それについて感情分析を実行してください。\n",
    "<br>\n",
    "0.8以上のスコア（とてもポジティブ）をもらえますか。"
   ]
  },
  {
   "cell_type": "code",
   "execution_count": null,
   "metadata": {},
   "outputs": [],
   "source": [
    "## YOUR CODE HERE"
   ]
  },
  {
   "cell_type": "markdown",
   "metadata": {},
   "source": [
    "## OPTIONAL 2\n",
    "\n",
    "__Text content classification__\n",
    "<br>\n",
    "One more thing you can do with text is to classify its content, i.e. find out what the text is about.\n",
    "<br>\n",
    "Follow the official tutorial here: https://cloud.google.com/natural-language/docs/classify-text-tutorial, _Step 1. Classify content_, to implement a context classification for text. Try to understand what the code in their example does and copy and adapt the parts you need.\n",
    "<br>\n",
    "Then test the code on some text that you chose.\n",
    "\n",
    "__テキストコンテンツの分類__\n",
    "<br>\n",
    "テキストでもう一つできることは、そのコンテンツを分類することです。つまりそれが何についてのテキストかを予測できます。\n",
    "<br>\n",
    "[こちら](https://cloud.google.com/natural-language/docs/classify-text-tutorial)の公式チュートリアルの_Step 1. Classify content_に従って、テキストのコンテキスト分類を実装してください。例のコードの内容を理解した上、必要な部分をコピーして適応させるようにしてください。\n",
    "<br>\n",
    "自分で選んだテキストで試してください。"
   ]
  },
  {
   "cell_type": "code",
   "execution_count": null,
   "metadata": {},
   "outputs": [],
   "source": [
    "## YOUR CODE HERE"
   ]
  }
 ],
 "metadata": {
  "kernelspec": {
   "display_name": "Python 3",
   "language": "python",
   "name": "python3"
  },
  "language_info": {
   "codemirror_mode": {
    "name": "ipython",
    "version": 3
   },
   "file_extension": ".py",
   "mimetype": "text/x-python",
   "name": "python",
   "nbconvert_exporter": "python",
   "pygments_lexer": "ipython3",
   "version": "3.7.7"
  }
 },
 "nbformat": 4,
 "nbformat_minor": 2
}
