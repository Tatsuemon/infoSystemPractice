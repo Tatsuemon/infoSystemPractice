{
 "cells": [
  {
   "cell_type": "markdown",
   "metadata": {},
   "source": [
    "# Session5 - more on cloud services / クラウドサービスに関する追加情報\n",
    "\n",
    "Here we talk specifically about the Google Cloud Platform (GCP), but the procedures are very similar for other cloud providers.\n",
    "\n",
    "ここでは特にGoogle Cloud Platform (GCP)について説明しますが、手順は他のクラウドプロバイダでもよく似ています。"
   ]
  },
  {
   "cell_type": "markdown",
   "metadata": {},
   "source": [
    "## What about the cost? / 費用に関して\n",
    "\n",
    "If you are considering using cloud services you may want to know in advance how much will it cost.\n",
    "\n",
    "First it is important that you know what is _free of charge_. These free resources can be used for learning and testing the platform. At this moment free services include:\n",
    "<br>\n",
    "1. When you first register you get a $300 credit to use on any product for 12 months\n",
    "<br>\n",
    "2. Some of the services are always free to use, up to a limit\n",
    "<br>\n",
    "  - For example, you can run Face Detection on 1000 images per month at no cost.\n",
    "\n",
    "The full prices for all products can be found on the [official pages](https://cloud.google.com/pricing/).\n",
    "\n",
    "\n",
    "クラウドサービスの使用を検討している場合は、費用がいくらかかりますかを事前に知りたいと思うかもしれません。\n",
    "\n",
    "まず、何が_無料_であるのかを知っておくことが重要です。無料のリソースは、例えばGCPの使い方の学習やテストに利用できます。現時点で無料サービスは次のとおりです。\n",
    "\n",
    "1. 最初に登録するとき、12ヶ月間どのサービスに使ってもいい300ドルのクレジットを得ます\n",
    "<br>\n",
    "2. 一部のサービスでは、制限があるまで常に無料で利用できます\n",
    "<br>\n",
    "  - たとえば、顔検出サービスは月額1000枚までの画像を無料で使います。\n",
    "\n",
    "すべての商品の価格は[公式ページ](https://cloud.google.com/pricing/)にあります。"
   ]
  },
  {
   "cell_type": "markdown",
   "metadata": {},
   "source": [
    "## TASK\n",
    "\n",
    "#### Calculating the cost / コストの計算\n",
    "\n",
    "GCP offers a calculator which you can use to find out how much money will it take to run a specific number of services. Open the calculator at https://cloud.google.com/products/calculator and use it to calculate how much will it cost to make in one month:\n",
    "\n",
    "- From Vision API: 10,000 face recognition and 10,000 logo detection calls\n",
    "\n",
    "- From NL API: 100,000 sentiment analysis calls\n",
    "\n",
    "You should get the cost estimate of __USD 122.00__ per 1 month.\n",
    "\n",
    "\n",
    "GCPには、特定の数のサービスを実行するのにかかる金額を計算するために使用できる計算機があります。\n",
    "<br>\n",
    "https://cloud.google.com/products/calculator\n",
    "<br>\n",
    "計算機を開き、それを使用して以下のサービスを1か月使うとすると、かかる費用を計算してください。\n",
    "\n",
    "- Vision APIから：10,000の顔認識と10,000のロゴ検出呼び出し\n",
    "\n",
    "- NL APIから：10万のセンチメント分析呼び出し\n",
    "\n",
    "1ヶ月あたり __122ドル__ の費用見積もりを得るはずです。"
   ]
  },
  {
   "cell_type": "markdown",
   "metadata": {},
   "source": [
    "## OPTIONAL\n",
    "\n",
    "#### How to make your own account / 自分のアカウントを作る方法\n",
    "\n",
    "If you want to run the services on your own you need to setup a Google Cloud Platform account.\n",
    "<br>\n",
    "You need 2 things:\n",
    "\n",
    "- A Google (gmail) account\n",
    "- A credit card\n",
    "\n",
    "Details my change in future so here we only give the basic procedure how to get started:\n",
    "\n",
    "1. Go to https://cloud.google.com and login with your account.\n",
    "<br>\n",
    "\n",
    "2. Choose to start a free trial. You will need to give credit card information at this point (you have to do this even if you plan to use only free services).\n",
    "<br>\n",
    "  \n",
    "3. Create a new project. Once it is created you will be taken to the dashboard which gives an overview of the project. \n",
    "<br>\n",
    "\n",
    "4. In order to run the code in Jupyter notebooks like we did today, you will need a Service account key. From top-left menu choose `APIs & Services -> Credentials`. Then click `Create credentials` and choose `Service account` to create the key. You can then use this key for running the code in notebooks, as explained in the [session about authentication](session0-main.ipynb).\n",
    "\n",
    "\n",
    "自分でサービスを試したい場合は、Google Cloud Platformアカウントを設定する必要があります。\n",
    "<br>\n",
    "必要なものは以下の2つです。\n",
    "\n",
    "- Google（gmail）アカウント\n",
    "- クレジットカード\n",
    "\n",
    "将来は手順が変わる可能性があるので、ここでは基本的な手続きだけを説明します。\n",
    "\n",
    "1. https://cloud.google.com にアクセスして、自分のアカウントでログインする。\n",
    "\n",
    "2. 無料トライアルを開始することを選択する。この時点でクレジットカード情報を提供する必要がある（無料サービスのみを使用する予定であっても、これを行う必要がある）。\n",
    "\n",
    "3. 新しいプロジェクトを作成する。すると、プロジェクトの概要が見られるダッシュボードが表示される。\n",
    "\n",
    "4. 今日のようにJupyterのノートブックでコードを実行するには、サービスアカウントキーが必要になる。左上のメニューから`APIs & Services -> Credentials`を選択する。 次に`Create credentials`をクリックし、`Service account`を選択してキーを作成する。[認証に関するセッション](session0-main.ipynb)で説明したように、このキーを使ってノートブックでコードを実行することができる。"
   ]
  },
  {
   "cell_type": "code",
   "execution_count": null,
   "metadata": {},
   "outputs": [],
   "source": []
  }
 ],
 "metadata": {
  "kernelspec": {
   "display_name": "Python 3",
   "language": "python",
   "name": "python3"
  },
  "language_info": {
   "codemirror_mode": {
    "name": "ipython",
    "version": 3
   },
   "file_extension": ".py",
   "mimetype": "text/x-python",
   "name": "python",
   "nbconvert_exporter": "python",
   "pygments_lexer": "ipython3",
   "version": "3.7.7"
  }
 },
 "nbformat": 4,
 "nbformat_minor": 2
}
