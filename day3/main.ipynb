{
 "cells": [
  {
   "cell_type": "markdown",
   "metadata": {},
   "source": [
    "# Machine learning: Day 3 (2 x 90 min)\n",
    "\n",
    "- Using cloud services\n",
    "<br>\n",
    "\n",
    "- クラウドサービスの利用"
   ]
  },
  {
   "cell_type": "markdown",
   "metadata": {},
   "source": [
    "# Cloud services - introduction / クラウドサービスの紹介\n",
    "\n",
    "There exist many cloud service providers. Some of the most famous ones are:\n",
    "- [Amazon Web Services (AWS)](https://aws.amazon.com/jp/)\n",
    "- [Microsoft Azure](https://azure.microsoft.com/ja-jp/)\n",
    "- [Google Cloud Platform (GCP)](https://cloud.google.com/)\n",
    "\n",
    "They all offer a wide range of services. Many of the offered services are quite similar, but some are specific to the provider.\n",
    "\n",
    "Today we will be working with the _Google Cloud Platform_.\n",
    "\n",
    "多くのクラウドサービスプロバイダーが存在します。 最も有名なものは次のとおりです。\n",
    "- [Amazon Web Services (AWS)](https://aws.amazon.com/jp/)\n",
    "- [Microsoft Azure](https://azure.microsoft.com/ja-jp/)\n",
    "- [Google Cloud Platform (GCP)](https://cloud.google.com/)\n",
    "\n",
    "それぞれのプロバイダーが幅広いサービスを提供しています。提供されているサービスの多くはよく似ていますが、それぞれの固有のものもあります。\n",
    "\n",
    "今日は_Google Cloud Platform_を使用します。"
   ]
  },
  {
   "cell_type": "markdown",
   "metadata": {},
   "source": [
    "## Google cloud platform\n",
    "\n",
    "A brief description provided by Google: \n",
    "\n",
    "_\"Google Cloud Platform is a suite of public cloud computing services. The platform includes a range of hosted services for compute, storage and application development that run on Google hardware.\"_\n",
    "\n",
    "Googleから提供された簡単な説明：\n",
    "\n",
    "_ 「Google Cloud Platform」は、パブリッククラウドコンピューティングサービスの揃いです。このプラットフォームには、Googleハードウェア上で実行されるコンピューティング、ストレージ、およびアプリケーション開発のためのさまざまなホスト型サービスが含まれています。"
   ]
  },
  {
   "cell_type": "markdown",
   "metadata": {},
   "source": [
    "GCP offers a variety of products, including solutions for:\n",
    "- Computing\n",
    "- Storage and databases\n",
    "- Networking\n",
    "- Security and identity\n",
    "- Developer tools\n",
    "- Data analytics\n",
    "- AI and machine learning\n",
    "- etc.\n",
    "\n",
    "We will be mostly interested in the services for machine learning.\n",
    "\n",
    "GCPは、以下のソリューションを含むさまざまな製品を提供しています。\n",
    "- コンピューティング\n",
    "- ストレージとデータベース\n",
    "- ネットワーキング\n",
    "- セキュリティとアイデンティティ\n",
    "- 開発者ツール\n",
    "- データ分析\n",
    "- AIと機械学習、など\n",
    "\n",
    "今日は機械学習のためのサービスに注目します。"
   ]
  },
  {
   "cell_type": "markdown",
   "metadata": {},
   "source": [
    "## AI and machine learning with GCP / GCPによるAIと機械学習\n",
    "\n",
    "The GCP offer for AI and machine learning comprises a range of products. They can generally be divided into platforms and building blocks.\n",
    "\n",
    "AIと機械学習のためのGCPのオファーはさまざまな製品で構成されています。\n",
    "一般にプラットフォームとビルディングブロックに分けられます。"
   ]
  },
  {
   "cell_type": "markdown",
   "metadata": {},
   "source": [
    "### Platforms / プラットフォーム\n",
    "\n",
    "One way of using the cloud is to run your own machine learning on the servers of the cloud provider. One example from GCP are Compute Engines - virtual machines where you can execute your code. Specifically for machine learning it is possible to use a virtual machine with preinstalled libraries like Tensorflow and scikit-learn (see [documentation](https://cloud.google.com/deep-learning-vm/docs/)).\n",
    "\n",
    "We will not go into details on how to run virtual machines. (However, one free solution how to run own code in the cloud will be covered in the (optional) _Session 6_.)\n",
    "\n",
    "クラウドを使用する1つの方法は、クラウドプロバイダーのサーバーで独自の機械学習を実行することです。GCPの1つの例はCompute Engine、コードを実行できる仮想マシンです。特に機械学習のために用意された仮想マシンも提供されています。Tensorflowやscikit-learnなどのライブラリがすでにインストールされたいるマシンです（[ドキュメント](https://cloud.google.com/deep-learning-vm/docs/)を参照）。\n",
    "\n",
    "仮想マシンの実行方法については詳しく説明しません。（ただし、クラウドで独自のコードを実行する1つの無料方法について（オプションの）_セッション6_ で述べます。）"
   ]
  },
  {
   "cell_type": "markdown",
   "metadata": {},
   "source": [
    "### Building blocks / ビルディングブロック\n",
    "\n",
    "What we will be more concerned here are the \"buiding blocks\" - ready to use solutions for specific tasks, which were created using machine learning. This includes the processing of images, videos, text or sound - e.g. detecting of faces in images. \n",
    "\n",
    "Google created these services were created by applying machine learning to very large datasets. Since the learning was done beforehand, in principle you do not need any knowledge of machine learning to use these services. Moreover, because of the large amount of training data, the results that you get from these services are of high quality.\n",
    "\n",
    "In the following sessions we will concentrate on the use of these building blocks, using examples from computer vision and natural language processing. \n",
    "\n",
    "ここでさらに注目されるのは「ビルディングブロック」です。これは、機械学習を使用して作成されて、すぐに使用できる特定のタスクのソリューションです。これには、画像、動画、テキスト、音声の処理などが含まれます。例えば、画像内の顔の検出はその一つの例です。\n",
    "\n",
    "これらのサービスは、非常に大きなデータセットに機械学習を適用することによって作成されました。事前に学習を行っているため、原則としてこれらのサービスを利用するために機械学習の知識は必要ありません。また、トレーニングデータが大量であるため、これらのサービスから得られる結果は高品質です。\n",
    "\n",
    "今日の実習では、コンピュータービジョンと自然言語処理の例を使用して、これらのビルディングブロックの使用に集中します。"
   ]
  },
  {
   "cell_type": "markdown",
   "metadata": {},
   "source": [
    "---\n",
    "_Important note_: Cloud services are diverse and changing very fast, so it is important to __check the official documentation__ when you want to use them. Do not just rely on what we do it this class, as this might change in the future.\n",
    "\n",
    "_重要な注意_：クラウドサービスは多様で急速に変化しているので、それらを使用したいときは__公式説明書を確認する__ことが重要です。 将来変更される可能性があるため、このクラスで学んだ内容だけでなく、常に最新の説明を確認してください。\n",
    "\n",
    "---"
   ]
  },
  {
   "cell_type": "markdown",
   "metadata": {},
   "source": [
    "## Contents\n",
    "\n",
    "A. __Using building blocks__\n",
    "\n",
    " 0. [Session 0: Authentication](session0-main.ipynb)\n",
    "<br>\n",
    "\n",
    " 1. _Computer vision_\n",
    "\n",
    "  1.1. [Session 1: Detection of faces](session1-main.ipynb)\n",
    "  \n",
    "     - [playground](session1-playground.ipynb)\n",
    "\n",
    "  1.2. [Session 2: Text recognition](session2-main.ipynb)\n",
    "  \n",
    "     - [playground](session2-playground.ipynb)\n",
    "\n",
    "  1.3. [Session 3: Image content (optional)](session3-main.ipynb)\n",
    "  \n",
    "     - [playground](session3-playground.ipynb)\n",
    "<br><br>\n",
    "\n",
    " 2. _Natural language processing_\n",
    "\n",
    "  2.1. [Session 4: Sentiment analysis](session4-main.ipynb)\n",
    "  \n",
    "     - [playground](session4-playground.ipynb)\n",
    "     \n",
    "B. __Additional topics__ \n",
    "\n",
    " 3. [Session 5: How to make your own account and calculate the cost](session5-main.ipynb)\n",
    "<br>\n",
    "\n",
    " 4. [Session 6: Running Jupyter notebooks in cloud (optional)](session6-main.ipynb)\n"
   ]
  }
 ],
 "metadata": {
  "kernelspec": {
   "display_name": "Python 3",
   "language": "python",
   "name": "python3"
  },
  "language_info": {
   "codemirror_mode": {
    "name": "ipython",
    "version": 3
   },
   "file_extension": ".py",
   "mimetype": "text/x-python",
   "name": "python",
   "nbconvert_exporter": "python",
   "pygments_lexer": "ipython3",
   "version": "3.7.7"
  }
 },
 "nbformat": 4,
 "nbformat_minor": 2
}
