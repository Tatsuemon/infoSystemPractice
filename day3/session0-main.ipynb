{
 "cells": [
  {
   "cell_type": "markdown",
   "metadata": {},
   "source": [
    "# Before starting: about authentication / 始める前に：認証について\n",
    "\n",
    "In order to use the Google Cloud services it is necessary to authenticate, so that the usage can be billed to the owner of the account.\n",
    "\n",
    "We will do it with a _Service account key_. The service account key is connected to one Google account and project that will be used for computation.\n",
    "\n",
    "Google Cloudサービスを使用するには、認証が必要です。これにより、使用料がアカウントを持つユーザに請求されます。\n",
    "\n",
    "認証のやり方がいくつかありますが、ここでは_サービスアカウントキー_で行います。 サービスアカウントキーは、計算に使用される1つのGoogleアカウントとプロジェクトに関連付けられています。"
   ]
  },
  {
   "cell_type": "markdown",
   "metadata": {},
   "source": [
    "> __VERY IMPORTANT__: _The account key should __NEVER__ be shared with anyone else, as this might result in unauthorised usage._ This also means that you should be careful not to submit the key to repositories that are publicly accesible, like github.\n",
    ">\n",
    "> __非常に重要__：アカウントキーは、不正な使用につながる可能性があるため、他のユーザーと__決して共有しないで__ください。また、githubのようにパブリックにアクセス可能なリポジトリにキーを置かないように十分注意する必要があります。"
   ]
  },
  {
   "cell_type": "markdown",
   "metadata": {},
   "source": [
    "The account key used in this class is connected to our lab's account and it was made especially for use in this class. __We ask you to use it responsibly__ - do not make copies or share it with others! Any misuse will be punished.\n",
    "\n",
    "(Details on how to create your own service account keys will be given in [session5](session5-main.ipynb))\n",
    "\n",
    "このクラスで使用されるアカウントキーは、我々の研究室のアカウントにつながっていて、このクラスで使用するため特別に作られたキーです。__責任を持って使用するようお願いします__。コピーを作成したり,他の人と共有したりしないでください。いかなる誤用もペナルティの対象になります。\n",
    "\n",
    "（自分自身のサービスアカウントキーを作成する方法について[セッション5](session5-main.ipynb)で述べます）"
   ]
  },
  {
   "cell_type": "markdown",
   "metadata": {},
   "source": [
    "### Setting the environment variable / 環境変数の設定\n",
    "\n",
    "For using a service account, we need to first set an environment variable which defines the path to the service account key that we wish to use.\n",
    "<br>\n",
    "_This needs to be done before calling any Google Cloud methods._\n",
    "<br>\n",
    "For example, in Linux or MacOS you can run the following command in the terminal.\n",
    "\n",
    "サービスアカウントを使用するには、まず、使用したいサービスアカウントキーへのパスを定義する環境変数を設定する必要があります。\n",
    "<br>\n",
    "_これは、Google Cloudのメソッドを呼び出す前に実行する必要があります。_\n",
    "<br>\n",
    "たとえば、LinuxまたはMacOSでは、端末で次のコマンドを実行してください。"
   ]
  },
  {
   "cell_type": "raw",
   "metadata": {},
   "source": [
    "export GOOGLE_APPLICATION_CREDENTIALS=\"[PATH]\""
   ]
  },
  {
   "cell_type": "markdown",
   "metadata": {},
   "source": [
    "In Jupyter you can set the environment variable directly inside a notebook cell. The command bellow sets the path to the service account key that we will use for this class. \n",
    "\n",
    "Jupyterでは、ノートブックのセル内で直接環境変数を設定できます。以下のコマンドは、このクラスに使用するサービスアカウントキーへのパスを設定します。"
   ]
  },
  {
   "cell_type": "raw",
   "metadata": {},
   "source": [
    "%env GOOGLE_APPLICATION_CREDENTIALS=gcp_credentials/mlpractice2020.json"
   ]
  },
  {
   "cell_type": "markdown",
   "metadata": {},
   "source": [
    "You will need to run this command _in each notebook_ before running Google cloud code.\n",
    "\n",
    "_各ノートブックで_ Googleクラウドコードを実行する前にこのコマンドを実行する必要があります。"
   ]
  }
 ],
 "metadata": {
  "kernelspec": {
   "display_name": "Python 3",
   "language": "python",
   "name": "python3"
  },
  "language_info": {
   "codemirror_mode": {
    "name": "ipython",
    "version": 3
   },
   "file_extension": ".py",
   "mimetype": "text/x-python",
   "name": "python",
   "nbconvert_exporter": "python",
   "pygments_lexer": "ipython3",
   "version": "3.7.7"
  }
 },
 "nbformat": 4,
 "nbformat_minor": 2
}
