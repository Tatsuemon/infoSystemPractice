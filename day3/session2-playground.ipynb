{
 "cells": [
  {
   "cell_type": "markdown",
   "metadata": {},
   "source": [
    "## Session2 - playground"
   ]
  },
  {
   "cell_type": "code",
   "execution_count": null,
   "metadata": {},
   "outputs": [],
   "source": [
    "%env GOOGLE_APPLICATION_CREDENTIALS=gcp_credentials/mlpractice2020.json"
   ]
  },
  {
   "cell_type": "markdown",
   "metadata": {},
   "source": [
    "## TASK 1 \n",
    "\n",
    "Run text detection on an image. These can be any image, either your own or taken from the internet, which contains text. You will need to upload the image to the server first. Finalize the code below to run the detection.\n",
    "\n",
    "画像に対してテキスト検出を実行します。ご自身で所有するものでも、インターネットから取得したものでも構いません。テキストを含む任意の画像を用いてください。最初に画像をサーバーにアップロードする必要があります。検出を実行するには、以下のコードを完成させてください。"
   ]
  },
  {
   "cell_type": "code",
   "execution_count": null,
   "metadata": {},
   "outputs": [],
   "source": [
    "from google.cloud import vision\n",
    "\n",
    "## CHANGE THE NAME HERE\n",
    "imagepath = \"name_of_your_image_file\"\n",
    "\n",
    "with open(imagepath, 'rb') as image_file:\n",
    "    content = image_file.read()\n",
    "\n",
    "image = vision.types.Image(content=content)\n",
    "\n",
    "client = vision.ImageAnnotatorClient()"
   ]
  },
  {
   "cell_type": "code",
   "execution_count": null,
   "metadata": {},
   "outputs": [],
   "source": [
    "response = client.document_text_detection(image=image)"
   ]
  },
  {
   "cell_type": "code",
   "execution_count": null,
   "metadata": {},
   "outputs": [],
   "source": [
    "## PRINT OUT THE RESULT / 結果をプリントして\n"
   ]
  },
  {
   "cell_type": "markdown",
   "metadata": {},
   "source": [
    "Try this on a few more images.\n",
    "\n",
    "テキスト認識をいくつかの画像で試してください。"
   ]
  },
  {
   "cell_type": "markdown",
   "metadata": {},
   "source": [
    "## OPTIONAL 1\n",
    "\n",
    "_Checking the documentation / ドキュメントの確認_ \n",
    "\n",
    "The result of detection contains a lot of information, like detected language or the bounding boxes for each detected piece of text. You can see it if you print the full result.\n",
    "\n",
    "検出結果には多くの情報が含まれています。例えば、テキストの言語や各テキストの部分の画像内の領域などがあります。完全な結果を印刷すれば、全ての情報を見ることができます。"
   ]
  },
  {
   "cell_type": "code",
   "execution_count": null,
   "metadata": {},
   "outputs": [],
   "source": [
    "print(response)"
   ]
  },
  {
   "cell_type": "markdown",
   "metadata": {},
   "source": [
    "To know the meaning of each field in the result you get from GCP, you should take a look at the documentation.\n",
    "<br>\n",
    "For example the variable `response` is of type ...\n",
    "\n",
    "GCPから得られた結果の各フィールドの意味は、公式ドキュメントで調べられます。\n",
    "<br>\n",
    "例えば、変数 `response`の型を確認しましょう。"
   ]
  },
  {
   "cell_type": "code",
   "execution_count": null,
   "metadata": {},
   "outputs": [],
   "source": [
    "print(type(response))"
   ]
  },
  {
   "cell_type": "markdown",
   "metadata": {},
   "source": [
    "so you can check the full documentation following the link below.\n",
    "<br>\n",
    "すべての情報を含むドキュメントは以下にあります。\n",
    "\n",
    "https://cloud.google.com/vision/docs/reference/rpc/google.cloud.vision.v1#google.cloud.vision.v1.AnnotateImageResponse"
   ]
  }
 ],
 "metadata": {
  "kernelspec": {
   "display_name": "Python 3",
   "language": "python",
   "name": "python3"
  },
  "language_info": {
   "codemirror_mode": {
    "name": "ipython",
    "version": 3
   },
   "file_extension": ".py",
   "mimetype": "text/x-python",
   "name": "python",
   "nbconvert_exporter": "python",
   "pygments_lexer": "ipython3",
   "version": "3.7.7"
  }
 },
 "nbformat": 4,
 "nbformat_minor": 2
}
