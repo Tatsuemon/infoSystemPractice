{
 "cells": [
  {
   "cell_type": "markdown",
   "metadata": {},
   "source": [
    "# Image content / 画像の内容 (optional)\n",
    "\n",
    "Apart from detecting faces, the Google cloud image annotation offers other functionalities, such as labeling, or detecting logos or landmarks. We will try some of them.\n",
    "\n",
    "顔を検出することとは別に、Googleクラウド画像アノテーションは他の機能を提供します。例えば、画像にラベルをつける、またはロゴやランドマークを検出するなどの機能があります。いくつか試してみましょう。"
   ]
  },
  {
   "cell_type": "markdown",
   "metadata": {},
   "source": [
    "---\n",
    "__Using images from the web__ / __ウェブからの画像の使用__\n",
    "\n",
    "Instead of loading locally saved images like we did until now, it is also possible to use images directly from the web using their URI, like this:\n",
    "<br>\n",
    "これまでにローカルに保存された画像をロードしていました。その代わりに、次のようにWebから直接画像を使用することができます。\n",
    "\n",
    "```\n",
    "imageuri = \"uri_of_image\"\n",
    "image = types.Image()\n",
    "image.source.image_uri = imageuri\n",
    "```\n",
    "\n",
    "We will use this below.\n",
    "<br>\n",
    "これを以下で使用します。\n",
    "\n",
    "\n",
    "In case you want to visualize the image you can use this code:\n",
    "<br>\n",
    "画像を視覚化したい場合は、次のコードを使用できます。\n",
    "\n",
    "```\n",
    "from IPython.display import Image\n",
    "Image(imageuri)\n",
    "```\n",
    "\n",
    "---"
   ]
  },
  {
   "cell_type": "code",
   "execution_count": null,
   "metadata": {},
   "outputs": [],
   "source": [
    "%env GOOGLE_APPLICATION_CREDENTIALS=gcp_credentials/mlpractice2020.json"
   ]
  },
  {
   "cell_type": "markdown",
   "metadata": {},
   "source": [
    "## Labeling images / 画像にラベルを付ける\n",
    "\n",
    "Label detection gives us textual labels which best describe what is in the image. Try running the code below. \n",
    "\n",
    "(Again, this is esentially the same code as for face detection - the basic difference is in the name of the function that we call: `label_detection` instead of `face_detection`)\n",
    "\n",
    "\n",
    "ラベル検出は、画像内の内容を最もよく表すテキストラベルを提供します。以下のコードを実行してみてください。\n",
    "\n",
    "（顔検出とほぼ同じコードです。基本的な違いは、呼び出す関数の名前は`face_detection`ではなく`label_detection`です）"
   ]
  },
  {
   "cell_type": "code",
   "execution_count": null,
   "metadata": {},
   "outputs": [],
   "source": [
    "from google.cloud import vision\n",
    "\n",
    "imageuri = \"https://cloud.google.com/vision/docs/images/faulkner.jpg\"\n",
    "\n",
    "image = vision.types.Image()\n",
    "image.source.image_uri = imageuri\n",
    "\n",
    "client = vision.ImageAnnotatorClient()"
   ]
  },
  {
   "cell_type": "code",
   "execution_count": null,
   "metadata": {},
   "outputs": [],
   "source": [
    "labels = client.label_detection(image=image).label_annotations"
   ]
  },
  {
   "cell_type": "code",
   "execution_count": null,
   "metadata": {},
   "outputs": [],
   "source": [
    "# print all labels\n",
    "print('Labels:')\n",
    "for label in labels:\n",
    "    print(label.description)"
   ]
  },
  {
   "cell_type": "markdown",
   "metadata": {},
   "source": [
    "Try changing the image and see what results you get.\n",
    "\n",
    "画像を変更して、どのような結果が得られるかを確認してください。"
   ]
  },
  {
   "cell_type": "markdown",
   "metadata": {},
   "source": [
    "### Confidence levels / 信頼水準\n",
    "\n",
    "The label detection also gives confidence levels for each label in the field `score.`\n",
    "\n",
    "ラベル検出はフィールド`score`内の各ラベルの信頼度を与えます。"
   ]
  },
  {
   "cell_type": "code",
   "execution_count": null,
   "metadata": {},
   "outputs": [],
   "source": [
    "print('Labels:')\n",
    "for label in labels:\n",
    "    print(label.description + \" - score: \" + str(label.score))"
   ]
  },
  {
   "cell_type": "markdown",
   "metadata": {},
   "source": [
    "## Detecting logos / ロゴの検出\n",
    "\n",
    "This service allows us to detect logos of famous brands in images.\n",
    "<br>\n",
    "Here is an example.\n",
    "\n",
    "このサービスにより、有名ブランドのロゴを画像で検出することができます。\n",
    "<br>\n",
    "これが一例です。"
   ]
  },
  {
   "cell_type": "code",
   "execution_count": null,
   "metadata": {},
   "outputs": [],
   "source": [
    "from google.cloud import vision\n",
    "\n",
    "imageuri = \"https://www.sony.jp/products/picture/DSC-RX0M2_right.jpg\"\n",
    "\n",
    "image = vision.types.Image()\n",
    "image.source.image_uri = imageuri\n",
    "\n",
    "client = vision.ImageAnnotatorClient()"
   ]
  },
  {
   "cell_type": "code",
   "execution_count": null,
   "metadata": {},
   "outputs": [],
   "source": [
    "logos = client.logo_detection(image=image).logo_annotations"
   ]
  },
  {
   "cell_type": "code",
   "execution_count": null,
   "metadata": {},
   "outputs": [],
   "source": [
    "# print all detected logos\n",
    "print('Logos:')\n",
    "\n",
    "for logo in logos:\n",
    "    print(logo.description)"
   ]
  },
  {
   "cell_type": "markdown",
   "metadata": {},
   "source": [
    "## Try  it yourself ! / 自分で試そう！\n",
    "\n",
    "Open the [notebook with exercises](session3-playground.ipynb).\n",
    "\n",
    "[練習のプレイグランド](session3-playground.ipynb)に進んでください。"
   ]
  }
 ],
 "metadata": {
  "kernelspec": {
   "display_name": "Python 3",
   "language": "python",
   "name": "python3"
  },
  "language_info": {
   "codemirror_mode": {
    "name": "ipython",
    "version": 3
   },
   "file_extension": ".py",
   "mimetype": "text/x-python",
   "name": "python",
   "nbconvert_exporter": "python",
   "pygments_lexer": "ipython3",
   "version": "3.7.7"
  }
 },
 "nbformat": 4,
 "nbformat_minor": 2
}
