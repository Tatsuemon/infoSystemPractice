{
 "cells": [
  {
   "cell_type": "markdown",
   "metadata": {},
   "source": [
    "# Session6 - running Jupyter notebooks in the cloud / <br>クラウドでJupyterノートブックを実行する (optional)"
   ]
  },
  {
   "cell_type": "markdown",
   "metadata": {},
   "source": [
    "_A shorter version of the information presented here is also on PandA._\n",
    "<br>\n",
    "_ここに提示されている情報の短いバージョンはPandAにもあります。_"
   ]
  },
  {
   "cell_type": "markdown",
   "metadata": {},
   "source": [
    "Google offers a service to run Jupyter notebooks on their servers, called __Colaboratory__, or Colab for short.\n",
    "\n",
    "グーグルは彼らのサーバー上でJupyterノートブックを走らせるサービスを提供しています。そのサービスは__Colaboratory__,またはColabと呼びます。\n",
    "\n",
    "Link/リンク: https://colab.research.google.com/"
   ]
  },
  {
   "cell_type": "markdown",
   "metadata": {},
   "source": [
    "There are several good points about Colab:\n",
    "- It is (at this moment) __completely free to use__ and you do not need a Google Cloud Platform account to use it. (Although it is necessary to have a Google/gmail account.)\n",
    "- Many frequently used libraries for Machine Learning, such as `tensorflow`, `scikit-learn`, `matplotlib` etc. are preinstalled on the servers.\n",
    "- It is possible to use GPU-s or even TPU-s (_TPU = tensor processing unit - this is a new type of processor that Google developed especially for deep learning and that should give even better performance for deep learning tasks than GPU-s_). This can be very helpful if you want to run deep learning algorithms and do not have a good GPU on your computer.\n",
    "- You can upload your own Jupyter notebooks, and data can be easily transfered through Google Drive.\n",
    "\n",
    "Colabにはいくつかの良い点があります。\n",
    "- （現時点では）__完全に無料__で使用でき、使用するのにはGoogle Cloud Platformアカウントは必要ありません。（ただ、Google/gmailアカウントが必要ですが）\n",
    "-  `tensorflow`、`scikit-learn`、`matplotlib`など、機械学習によく使われるライブラリの多くがサーバーにプレインストールされています。\n",
    "-  GPUやTPUを使用することができます。（_TPU（tensor processing unit）はGoogleがディープラーニング用に特別に開発した新しいタイプのプロセッサで、GPUよりもディープラーニングタスクのパフォーマンスがさらに向上します_）コンピュータに良いGPUを持っていなくても、深層学習アルゴリズムを実行することができるのがとても便利です。\n",
    "- 自分のJupyterノートブックをアップロードすることができます。また、データはGoogle Driveを通して容易に転送されることができます。"
   ]
  },
  {
   "cell_type": "markdown",
   "metadata": {},
   "source": [
    "There are also a few limitations. For example, the processing power and memory of the GPU can be limited, and computations that use GPU for a long time may be interrupted. Colab is not intended for large computation tasks, and for that one should use either a local computer or a cloud computing engine. But for quick testing and for learning it is often quite useful.\n",
    "\n",
    "Note that Colab uses a slightly modified version of Jupyter. It looks a bit different and there are some additional funcionalities. But it is basically the same.\n",
    "\n",
    "いくつかの制限もあります。 たとえば、GPUの処理能力やメモリの量に制限がかかっています。また、GPUを長時間使用したら計算が中断される可能性があります。Colabは基本的に大規模な計算作業を目的としたものではありません。そういうタスクはローカルコンピュータまたはクラウドコンピューティングエンジンを使用する必要があります。しかし、簡単なテストや勉強には、とても便利です。\n",
    "\n",
    "ColabはJupyterのわずかに修正されたバージョンを使っていることに注意してください。少し違って見え、そしていくつかの追加機能があります。しかし、基本的に同じです。"
   ]
  },
  {
   "cell_type": "markdown",
   "metadata": {},
   "source": [
    "---\n",
    "There are other free services similar to Colab where you can run Jupyter notebooks online. For example:\n",
    "\n",
    "Colab以外にもJupyterノートブックを実行するための無料サービスがあります。例えば：\n",
    "\n",
    "\n",
    "- Microsoft _Azure Notebooks_: https://notebooks.azure.com/\n",
    "\n",
    "- _Deepnote_： https://www.deepnote.com/\n",
    "\n",
    "\n",
    "If you prefer, you can use those services instead of Colab for the tasks below, but we will not explain the details how to use them.\n",
    "\n",
    "使用方法は詳細に説明しませんが、このサービスはColabの代わりに使って、以下のタスクを行っても構いません。\n",
    "\n",
    "---"
   ]
  },
  {
   "cell_type": "markdown",
   "metadata": {},
   "source": [
    "## OPTIONAL 1\n",
    "\n",
    "Run one of the sessions from this course on Colab.\n",
    "\n",
    "1. First open Jupyter dashboard, open the folder \"day1\" and download `session2.ipynb` to your computer (check the box next to the file name and click the button `Download` on the top). Download also the file `iris_data.csv`.\n",
    "\n",
    "2. Then open Colab and upload the notebook (`File -> Upload Notebook...`).\n",
    "\n",
    "3. If you run the code it will fail in the second cell because it cannot open the file `iris_data.csv`. In order to upload that file, add one cell and run the following code:\n",
    "\n",
    "```\n",
    "from google.colab import files\n",
    "uploaded = files.upload()\n",
    "```\n",
    "Use the interface that appears to upload the `iris_data.csv` file.\n",
    "\n",
    "You should be able to run all the remaining code in the notebook.\n",
    "\n",
    "\n",
    "Colabでこの演習のセッションを実行してみましょう。\n",
    "\n",
    "1. 最初にJupyterダッシュボードでフォルダ \"day1\"を開き、`session2.ipynb`を自分のコンピュータにダウンロードしてください（ファイル名の隣にあるボックスをチェックし、上部の`Download`ボタンをクリック）。そして、ファイル `iris_data.csv`もダウンロードしてください。\n",
    "\n",
    "2. 次にColabを開き、ノートブックをアップロードします（`File -> Upload Notebook...`）。\n",
    "\n",
    "3. コードをそのまま実行したら、2番目のセルで失敗します。これは、ファイル`iris_data.csv`を開くことができないためです。そのファイルをアップロードするには、セルを1つ追加して次のコードを実行してください。\n",
    "\n",
    "```\n",
    "from google.colab import files\n",
    "uploaded = files.upload()\n",
    "```\n",
    "現れたインターフェースを使って`iris_data.csv`ファイルをアップロードしてください。\n",
    "\n",
    "その後ノートブックの残りのすべてのコードを実行できるはずです。"
   ]
  },
  {
   "cell_type": "markdown",
   "metadata": {},
   "source": [
    "## OPTIONAL 2\n",
    "\n",
    "Training a network using a GPU or TPU.\n",
    "\n",
    "1. Copy the notebook `session2.ipynb` from day2 to Colab.\n",
    "\n",
    "2. Upload also the file `mnist_loader.py` from day2, using the same procedure you used to upload `iris_data.csv` in TASK1.\n",
    "\n",
    "3. Try running the whole code until the neural network training.\n",
    "\n",
    "4. Next change the notebook setting to use GPU or TPU. In the menu select _Runtime -> Change runtime type_. Under \"Hardware accelerator\" change from None to GPU or TPU and click Save. Now the notebook will be running with GPU/TPU enabled. Try running all the cells until the neural network training again.\n",
    "\n",
    "\n",
    "GPUまたはTPUを使用してネットワークをトレーニングする\n",
    "\n",
    "1. day2の`session2.ipynb`をColabにコピーしてください。\n",
    "\n",
    "2. day2のファイル` mnist_loader.py`もアップロードしてください（TASK1で`iris_data.csv`をアップロードした時と同じ方法を使用して）\n",
    "\n",
    "3. ニューラルネットワークのトレーニングまでコード全体を実行してみてください。\n",
    "\n",
    "4. 次に、GPUまたはTPUを使用するようにノートブックの設定を変更します。メニューで_Runtime -> Change runtime type_を選択します。 \"Hardware accelerator\"でNoneからGPUまたはTPUに変更してSaveをクリックします。 これで、ノートブックはGPU/TPUが有効になった状態で実行されます。もう一度、ニューラルネットワークのトレーニングまで、すべてのセルを実行してみてください。\n",
    "\n",
    "_Note_: In this specific example the network is quite small so there will probably be only a small difference (if any) between running the code with or without GPU. \n",
    "<br>\n",
    "With deeper neural networks the difference would be much larger. If you are curious, try implementing CNN for MNIST.\n",
    "\n",
    "注：この例では、ネットワークがかなり小さいため、GPUの有無にかかわらずコードを実行することには、おそらくわずかな違いしかないでしょう。\n",
    "<br>\n",
    "より深いニューラルネットワークでは、その差はもっと大きくなるでしょう。試してみたかったら、例えばday2のSession5に使っていたNASNetMobileを使ってみてください。"
   ]
  }
 ],
 "metadata": {
  "kernelspec": {
   "display_name": "Python 3",
   "language": "python",
   "name": "python3"
  },
  "language_info": {
   "codemirror_mode": {
    "name": "ipython",
    "version": 3
   },
   "file_extension": ".py",
   "mimetype": "text/x-python",
   "name": "python",
   "nbconvert_exporter": "python",
   "pygments_lexer": "ipython3",
   "version": "3.6.8"
  }
 },
 "nbformat": 4,
 "nbformat_minor": 2
}
